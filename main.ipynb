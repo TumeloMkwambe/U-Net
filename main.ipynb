{
 "cells": [
  {
   "cell_type": "code",
   "execution_count": 10,
   "id": "ac77791a-34f3-450c-9e9a-eaad349cc94e",
   "metadata": {
    "executionInfo": {
     "elapsed": 12,
     "status": "ok",
     "timestamp": 1756552429649,
     "user": {
      "displayName": "Tumelo Mkwambe",
      "userId": "08813125351880853308"
     },
     "user_tz": -120
    },
    "id": "ac77791a-34f3-450c-9e9a-eaad349cc94e"
   },
   "outputs": [],
   "source": [
    "import cv2\n",
    "import torch\n",
    "import wandb\n",
    "import itertools\n",
    "import numpy as np\n",
    "from torch import nn\n",
    "import torch.nn.functional as F\n",
    "from torch.utils.data import DataLoader, Dataset\n",
    "from sklearn.metrics import precision_score, recall_score, f1_score"
   ]
  },
  {
   "cell_type": "code",
   "execution_count": 11,
   "id": "6MeFUiNpa7B_",
   "metadata": {
    "colab": {
     "base_uri": "https://localhost:8080/",
     "height": 225
    },
    "executionInfo": {
     "elapsed": 30986,
     "status": "ok",
     "timestamp": 1756549945581,
     "user": {
      "displayName": "Tumelo Mkwambe",
      "userId": "08813125351880853308"
     },
     "user_tz": -120
    },
    "id": "6MeFUiNpa7B_",
    "outputId": "3b62cf02-0e5b-485f-a74d-9e56d5fe945b"
   },
   "outputs": [
    {
     "name": "stderr",
     "output_type": "stream",
     "text": [
      "\u001b[34m\u001b[1mwandb\u001b[0m: Logging into wandb.ai. (Learn how to deploy a W&B server locally: https://wandb.me/wandb-server)\n",
      "\u001b[34m\u001b[1mwandb\u001b[0m: You can find your API key in your browser here: https://wandb.ai/authorize\n",
      "\u001b[34m\u001b[1mwandb\u001b[0m: Paste an API key from your profile and hit enter:"
     ]
    },
    {
     "name": "stdin",
     "output_type": "stream",
     "text": [
      "  ········\n"
     ]
    },
    {
     "name": "stderr",
     "output_type": "stream",
     "text": [
      "\u001b[34m\u001b[1mwandb\u001b[0m: \u001b[33mWARNING\u001b[0m If you're specifying your api key in code, ensure this code is not shared publicly.\n",
      "\u001b[34m\u001b[1mwandb\u001b[0m: \u001b[33mWARNING\u001b[0m Consider setting the WANDB_API_KEY environment variable, or running `wandb login` from the command line.\n",
      "\u001b[34m\u001b[1mwandb\u001b[0m: No netrc file found, creating one.\n",
      "\u001b[34m\u001b[1mwandb\u001b[0m: Appending key for api.wandb.ai to your netrc file: /home/vmuser/.netrc\n",
      "\u001b[34m\u001b[1mwandb\u001b[0m: Currently logged in as: \u001b[33mmkwambetumelo\u001b[0m to \u001b[32mhttps://api.wandb.ai\u001b[0m. Use \u001b[1m`wandb login --relogin`\u001b[0m to force relogin\n"
     ]
    },
    {
     "data": {
      "text/plain": [
       "True"
      ]
     },
     "execution_count": 11,
     "metadata": {},
     "output_type": "execute_result"
    }
   ],
   "source": [
    "device = torch.device(\"cuda\" if torch.cuda.is_available() else \"cpu\")\n",
    "wandb.login() # use your own key"
   ]
  },
  {
   "cell_type": "code",
   "execution_count": 12,
   "id": "7d0effb5-9ed9-42db-8bb7-066789bbcb50",
   "metadata": {
    "executionInfo": {
     "elapsed": 48,
     "status": "ok",
     "timestamp": 1756549958611,
     "user": {
      "displayName": "Tumelo Mkwambe",
      "userId": "08813125351880853308"
     },
     "user_tz": -120
    },
    "id": "7d0effb5-9ed9-42db-8bb7-066789bbcb50"
   },
   "outputs": [],
   "source": [
    "class Encoder(nn.Module):\n",
    "    def __init__(self, input_channels, output_channels):\n",
    "        super().__init__()\n",
    "        self.block = nn.Sequential(\n",
    "            nn.Conv2d(input_channels, output_channels, kernel_size = 3, padding = 1),\n",
    "            nn.ReLU(inplace = True),\n",
    "            nn.Conv2d(output_channels, output_channels, kernel_size = 3, padding = 1),\n",
    "            nn.ReLU(inplace = True)\n",
    "        )\n",
    "\n",
    "    def forward(self, feature_bank):\n",
    "        feature_bank = self.block(feature_bank)\n",
    "        return feature_bank"
   ]
  },
  {
   "cell_type": "code",
   "execution_count": 13,
   "id": "9d111f90-051c-4a56-9421-942721ff50ea",
   "metadata": {
    "executionInfo": {
     "elapsed": 29,
     "status": "ok",
     "timestamp": 1756549959943,
     "user": {
      "displayName": "Tumelo Mkwambe",
      "userId": "08813125351880853308"
     },
     "user_tz": -120
    },
    "id": "9d111f90-051c-4a56-9421-942721ff50ea"
   },
   "outputs": [],
   "source": [
    "class Decoder(nn.Module):\n",
    "    def __init__(self, input_channels, output_channels):\n",
    "        super().__init__()\n",
    "        self.block = nn.Sequential(\n",
    "            nn.Conv2d(input_channels, output_channels, kernel_size = 3, padding = 1),\n",
    "            nn.ReLU(inplace = True),\n",
    "            nn.Conv2d(output_channels, output_channels, kernel_size = 3, padding = 1),\n",
    "            nn.ReLU(inplace = True)\n",
    "        )\n",
    "\n",
    "    def forward(self, decoder_feature_bank, encoder_feature_bank):\n",
    "\n",
    "        if decoder_feature_bank.shape[2:] != encoder_feature_bank.shape[2:]:\n",
    "            decoder_feature_bank = F.interpolate(\n",
    "                decoder_feature_bank,\n",
    "                size=encoder_feature_bank.shape[2:],\n",
    "                mode='bilinear',\n",
    "                align_corners=False\n",
    "            )\n",
    "\n",
    "        feature_bank = torch.cat([decoder_feature_bank, encoder_feature_bank], dim = 1)\n",
    "        feature_bank = self.block(feature_bank)\n",
    "        return feature_bank"
   ]
  },
  {
   "cell_type": "code",
   "execution_count": 14,
   "id": "904b345d-9b09-4af1-b471-e9f28e1be0cf",
   "metadata": {
    "executionInfo": {
     "elapsed": 25,
     "status": "ok",
     "timestamp": 1756549960894,
     "user": {
      "displayName": "Tumelo Mkwambe",
      "userId": "08813125351880853308"
     },
     "user_tz": -120
    },
    "id": "904b345d-9b09-4af1-b471-e9f28e1be0cf"
   },
   "outputs": [],
   "source": [
    "class U_Net(nn.Module):\n",
    "    def __init__(self):\n",
    "        super().__init__()\n",
    "        channels = [3, 64, 128, 256, 512, 1024]\n",
    "        self.encoder = nn.ModuleList([\n",
    "            Encoder(channels[i], channels[i + 1]) for i in range(len(channels) - 1)\n",
    "        ])\n",
    "        channels.reverse()\n",
    "        self.decoder = nn.ModuleList([\n",
    "            Decoder(channels[i], channels[i + 1]) for i in range(len(channels) - 2)\n",
    "        ])\n",
    "\n",
    "        self.max_pool = nn.MaxPool2d(kernel_size = 2, stride = 2)\n",
    "        self.convUps = nn.ModuleList([\n",
    "            nn.ConvTranspose2d(channels[i], channels[i + 1], kernel_size = 2, stride = 2) for i in range(len(channels) - 2)\n",
    "        ])\n",
    "\n",
    "        self.final_conv = nn.Conv2d(64, 2, kernel_size = 3, padding = 1)\n",
    "\n",
    "\n",
    "    def forward(self, img):\n",
    "\n",
    "        encoder_feature_banks = []\n",
    "        feature_bank = img\n",
    "\n",
    "        for idx, block in enumerate(self.encoder):\n",
    "            feature_bank = block(feature_bank)\n",
    "\n",
    "            if idx < len(self.encoder) - 1:\n",
    "                encoder_feature_banks.append(feature_bank)\n",
    "                feature_bank = self.max_pool(feature_bank)\n",
    "\n",
    "        encoder_feature_banks.reverse()\n",
    "\n",
    "        for idx, block in enumerate(self.decoder):\n",
    "            feature_bank = self.convUps[idx](feature_bank)\n",
    "            feature_bank = block(feature_bank, encoder_feature_banks[idx])\n",
    "\n",
    "        output = self.final_conv(feature_bank)\n",
    "\n",
    "        return output"
   ]
  },
  {
   "cell_type": "code",
   "execution_count": 15,
   "id": "0e911df7-e37c-4a53-8d5b-973fae2c00ef",
   "metadata": {
    "executionInfo": {
     "elapsed": 15,
     "status": "ok",
     "timestamp": 1756549961902,
     "user": {
      "displayName": "Tumelo Mkwambe",
      "userId": "08813125351880853308"
     },
     "user_tz": -120
    },
    "id": "0e911df7-e37c-4a53-8d5b-973fae2c00ef"
   },
   "outputs": [],
   "source": [
    "class ImageDataset(Dataset):\n",
    "    def __init__(self, data):\n",
    "        self.data = data\n",
    "\n",
    "    def __len__(self):\n",
    "        return len(self.data)\n",
    "\n",
    "    def __getitem__(self, idx):\n",
    "        image, mask = self.data[idx]\n",
    "        return image, mask"
   ]
  },
  {
   "cell_type": "code",
   "execution_count": 16,
   "id": "241705cb-5baa-4c51-be8e-e169ba7ef6bc",
   "metadata": {
    "executionInfo": {
     "elapsed": 44203,
     "status": "ok",
     "timestamp": 1756550007127,
     "user": {
      "displayName": "Tumelo Mkwambe",
      "userId": "08813125351880853308"
     },
     "user_tz": -120
    },
    "id": "241705cb-5baa-4c51-be8e-e169ba7ef6bc"
   },
   "outputs": [],
   "source": [
    "def retrieve_data(type_, img_nums):\n",
    "    data = []\n",
    "\n",
    "    for img_num in img_nums:\n",
    "        img_label = cv2.imread(f'./images-1024x768/{type_}/image-{img_num}.png')\n",
    "        img_target = cv2.imread(f'./masks-1024x768/{type_}/mask-{img_num}.png', cv2.IMREAD_GRAYSCALE)\n",
    "        foreground = (img_target > 0).astype(np.float32)\n",
    "        background = 1.0 - foreground\n",
    "        img_target = np.stack([background, foreground], axis = 0)\n",
    "        data.append([img_label, img_target])\n",
    "\n",
    "    return data\n",
    "\n",
    "train_data = retrieve_data('train', [2, 7, 10, 12, 21, 24, 27, 28, 30, 43])\n",
    "val_data = retrieve_data('val', [1, 11, 22, 32])\n",
    "test_data = retrieve_data('test', [4, 16, 29, 36])"
   ]
  },
  {
   "cell_type": "code",
   "execution_count": 17,
   "id": "6c4c0bc0-d25c-49d5-8182-b6885854e8f0",
   "metadata": {
    "executionInfo": {
     "elapsed": 230,
     "status": "ok",
     "timestamp": 1756550007355,
     "user": {
      "displayName": "Tumelo Mkwambe",
      "userId": "08813125351880853308"
     },
     "user_tz": -120
    },
    "id": "6c4c0bc0-d25c-49d5-8182-b6885854e8f0"
   },
   "outputs": [],
   "source": [
    "def preprocess_img(img):\n",
    "    image_tensor = torch.tensor(img, dtype = torch.float32)\n",
    "    image_tensor = image_tensor.permute(2, 0, 1)\n",
    "    return image_tensor / 255.0\n",
    "\n",
    "def preprocess_mask(img):\n",
    "    image_tensor = torch.tensor(img, dtype = torch.float32)\n",
    "    return image_tensor\n",
    "\n",
    "train_data = [[preprocess_img(entry[0]), preprocess_mask(entry[1])] for entry in train_data]\n",
    "val_data = [[preprocess_img(entry[0]), preprocess_mask(entry[1])] for entry in val_data]\n",
    "test_data = [[preprocess_img(entry[0]), preprocess_mask(entry[1])] for entry in test_data]"
   ]
  },
  {
   "cell_type": "code",
   "execution_count": 18,
   "id": "fcebdc78-b6d8-4e03-8d76-828f26493be5",
   "metadata": {
    "executionInfo": {
     "elapsed": 56,
     "status": "ok",
     "timestamp": 1756553272074,
     "user": {
      "displayName": "Tumelo Mkwambe",
      "userId": "08813125351880853308"
     },
     "user_tz": -120
    },
    "id": "fcebdc78-b6d8-4e03-8d76-828f26493be5"
   },
   "outputs": [],
   "source": [
    "def training_loop(train_data, val_data, num_epochs = 10, batch_size = 1, learning_rate = 1e-3, device = \"cuda\"):\n",
    "\n",
    "    train_dataset = ImageDataset(train_data)\n",
    "    train_dataloader = DataLoader(train_dataset, batch_size, shuffle = True)\n",
    "\n",
    "    model = U_Net().to(device)\n",
    "\n",
    "    loss_function = nn.CrossEntropyLoss()\n",
    "    optimizer = torch.optim.Adam(model.parameters(), lr = learning_rate)\n",
    "\n",
    "    train_loss = 0.0\n",
    "\n",
    "    model.train()\n",
    "    for epoch in range(num_epochs):\n",
    "        for image, mask in train_dataloader:\n",
    "            image = image.to(device)\n",
    "            mask = mask.to(device)\n",
    "            optimizer.zero_grad()\n",
    "            logits = model(image)\n",
    "            loss = loss_function(logits, mask)\n",
    "            loss.backward()\n",
    "            optimizer.step()\n",
    "            train_loss += loss.item()\n",
    "\n",
    "        val_loss = validation_loop(model, val_data, 1, device)\n",
    "\n",
    "        print(f'Epoch {epoch} | Loss: {train_loss / len(train_dataloader)} | Val Loss: {val_loss}')\n",
    "\n",
    "        '''\n",
    "        wandb.log({\n",
    "              \"train_loss\": train_loss,\n",
    "              \"val_loss\": avg_loss,\n",
    "              \"val_accuracy\": accuracy\n",
    "        })\n",
    "        '''\n",
    "\n",
    "        return model"
   ]
  },
  {
   "cell_type": "code",
   "execution_count": 19,
   "id": "0a5b4c7f-9728-4728-9e52-cc03f57cc6bf",
   "metadata": {
    "executionInfo": {
     "elapsed": 20,
     "status": "ok",
     "timestamp": 1756553273965,
     "user": {
      "displayName": "Tumelo Mkwambe",
      "userId": "08813125351880853308"
     },
     "user_tz": -120
    },
    "id": "0a5b4c7f-9728-4728-9e52-cc03f57cc6bf"
   },
   "outputs": [],
   "source": [
    "def validation_loop(model, data, batch_size = 1, device = \"cuda\"):\n",
    "\n",
    "    dataset = ImageDataset(data)\n",
    "    dataloader = DataLoader(dataset, batch_size, shuffle=False)\n",
    "\n",
    "    loss_function = nn.CrossEntropyLoss()\n",
    "    val_loss = 0.0\n",
    "\n",
    "    model.eval()\n",
    "    with torch.no_grad():\n",
    "        for image, mask in dataloader:\n",
    "            image = image.to(device)\n",
    "            mask = mask.to(device)\n",
    "\n",
    "            logits = model(image)\n",
    "            loss = loss_function(logits, torch.argmax(mask, dim=1))\n",
    "            val_loss += loss.item()\n",
    "\n",
    "    return val_loss / len(dataloader)"
   ]
  },
  {
   "cell_type": "code",
   "execution_count": 20,
   "id": "77b5884b-eaf3-42e8-adc8-b270104330f0",
   "metadata": {},
   "outputs": [],
   "source": [
    "def testing_loop(model, data, batch_size = 1, device=\"cuda\"):\n",
    "    \n",
    "    dataset = ImageDataset(data)\n",
    "    dataloader = DataLoader(dataset, batch_size, shuffle=False)\n",
    "\n",
    "    loss_function = nn.CrossEntropyLoss()\n",
    "    total_loss = 0.0\n",
    "    correct = 0\n",
    "    total = 0\n",
    "\n",
    "    all_predictions = []\n",
    "    all_true_masks = []\n",
    "\n",
    "    model.eval()\n",
    "    with torch.no_grad():\n",
    "        for image, mask in dataloader:\n",
    "            image = image.to(device)\n",
    "            mask = mask.to(device)\n",
    "\n",
    "            logits = model(image)\n",
    "            loss = loss_function(logits, torch.argmax(mask, dim=1))\n",
    "            total_loss += loss.item()\n",
    "\n",
    "            predictions = torch.argmax(logits, dim=1)\n",
    "            true_mask = torch.argmax(mask, dim=1)\n",
    "\n",
    "            correct_pixels = (predictions == true_mask).sum().item()\n",
    "            num_pixels = true_mask.numel()\n",
    "\n",
    "            correct += correct_pixels\n",
    "            total += num_pixels\n",
    "\n",
    "            all_predictions.append(predictions.cpu().numpy())\n",
    "            all_true_masks.append(true_mask.cpu().numpy())\n",
    "\n",
    "    all_predictions = np.concatenate(all_predictions).flatten()\n",
    "    all_true_masks = np.concatenate(all_true_masks).flatten()\n",
    "\n",
    "    precision = precision_score(all_true_masks, all_predictions, average=None)\n",
    "    recall = recall_score(all_true_masks, all_predictions, average=None)\n",
    "    f1 = f1_score(all_true_masks, all_predictions, average=None)\n",
    "\n",
    "    iou = []\n",
    "    num_classes = len(np.unique(all_true_masks))\n",
    "    for i in range(num_classes):\n",
    "        intersection = np.sum((all_true_masks == i) & (all_predictions == i))\n",
    "        union = np.sum((all_true_masks == i) | (all_predictions == i))\n",
    "        iou.append(intersection / union if union != 0 else 0)\n",
    "\n",
    "    avg_loss = total_loss / len(dataloader)\n",
    "    accuracy = correct / total\n",
    "\n",
    "    print(f\"Testing | \n",
    "        Loss: {avg_loss:.4f} | \n",
    "        Accuracy: {accuracy:.4f} | \n",
    "        Precision: {precision} | \n",
    "        Recall: {recall} | \n",
    "        F1 Score: {f1} | \n",
    "        IoU: {iou}\"\n",
    "    )\n",
    "  \n",
    "    wandb.log({\n",
    "          \"test_loss\": avg_loss,\n",
    "          \"test_accuracy\": accuracy,\n",
    "          \"test_precision\": precision.tolist(),\n",
    "          \"test_recall\": recall.tolist(),\n",
    "          \"test_f1\": f1.tolist(),\n",
    "          \"test_iou\": iou\n",
    "    })\n",
    "\n",
    "    return avg_loss, accuracy, precision, recall, f1, iou\n"
   ]
  },
  {
   "cell_type": "code",
   "execution_count": 21,
   "id": "0FgCZtKnVjFK",
   "metadata": {
    "executionInfo": {
     "elapsed": 26,
     "status": "ok",
     "timestamp": 1756553277002,
     "user": {
      "displayName": "Tumelo Mkwambe",
      "userId": "08813125351880853308"
     },
     "user_tz": -120
    },
    "id": "0FgCZtKnVjFK"
   },
   "outputs": [],
   "source": [
    "def find_best_hyperparameters():\n",
    "\n",
    "    '''\n",
    "    TODO: select model with best validation iou and\n",
    "    '''\n",
    "    \n",
    "    num_epochs = [10]\n",
    "    batch_size = [1, 2, 3, 4, 5]\n",
    "    learning_rate = [1e-1, 1e-2, 1e-3, 1e-4, 1e-5]\n",
    "\n",
    "    best_model = None\n",
    "    best_iou = 0\n",
    "\n",
    "    for idx, combination in enumerate(list(itertools.product(num_epochs, batch_size, learning_rate))):\n",
    "\n",
    "        wandb.init(entity = \"computer-vision-wits\", project = \"U-Net\", name = f\"run_{idx}\")\n",
    "\n",
    "        config = wandb.config\n",
    "        config.epochs = combination[0]\n",
    "        config.batch_size = combination[1]\n",
    "        config.learning_rate = combination[2]\n",
    "\n",
    "        model = training_loop(\n",
    "            train_data,\n",
    "            val_data,\n",
    "            num_epochs = combination[0],\n",
    "            batch_size = combination[1],\n",
    "            learning_rate = combination[2],\n",
    "            device = \"cuda\"\n",
    "        )\n",
    "\n",
    "        wandb.finish()\n",
    "\n",
    "model = find_best_hyperparameters() # TODO: return best model by validation iou."
   ]
  },
  {
   "cell_type": "code",
   "execution_count": null,
   "id": "OotNsciesQAJ",
   "metadata": {
    "id": "OotNsciesQAJ"
   },
   "outputs": [],
   "source": [
    "'''\n",
    "TODO: Report testing details of best model by validation iou.\n",
    "'''\n",
    "\n",
    "wandb.init(entity = \"computer-vision-wits\", project = \"U-Net\", name = f\"u-net-base-testing\")\n",
    "\n",
    "testing_loop(\n",
    "    model = model,\n",
    "    data = test_data,\n",
    "    batch_size = 4,\n",
    "    device = \"cuda\"\n",
    ")\n",
    "\n",
    "wandb.finish()"
   ]
  }
 ],
 "metadata": {
  "accelerator": "GPU",
  "colab": {
   "gpuType": "T4",
   "provenance": []
  },
  "kernelspec": {
   "display_name": "Python 3 (ipykernel)",
   "language": "python",
   "name": "python3"
  },
  "language_info": {
   "codemirror_mode": {
    "name": "ipython",
    "version": 3
   },
   "file_extension": ".py",
   "mimetype": "text/x-python",
   "name": "python",
   "nbconvert_exporter": "python",
   "pygments_lexer": "ipython3",
   "version": "3.13.5"
  }
 },
 "nbformat": 4,
 "nbformat_minor": 5
}
