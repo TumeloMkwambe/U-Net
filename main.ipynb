{
 "cells": [
  {
   "cell_type": "code",
   "execution_count": 3,
   "id": "ac77791a-34f3-450c-9e9a-eaad349cc94e",
   "metadata": {
    "executionInfo": {
     "elapsed": 8706,
     "status": "ok",
     "timestamp": 1756598952825,
     "user": {
      "displayName": "Tumelo Mkwambe",
      "userId": "15689771398296361782"
     },
     "user_tz": -120
    },
    "id": "ac77791a-34f3-450c-9e9a-eaad349cc94e"
   },
   "outputs": [],
   "source": [
    "import cv2\n",
    "import torch\n",
    "import wandb\n",
    "import itertools\n",
    "import numpy as np\n",
    "from torch import nn\n",
    "import torch.nn.functional as F\n",
    "from torch.utils.data import DataLoader, Dataset\n",
    "from sklearn.metrics import precision_score, recall_score, f1_score, accuracy_score"
   ]
  },
  {
   "cell_type": "code",
   "execution_count": null,
   "id": "4ea9c809-9ee5-42bc-b7c6-b7149a3d977d",
   "metadata": {},
   "outputs": [],
   "source": [
    "device = torch.device(\"cuda\" if torch.cuda.is_available() else \"cpu\")\n",
    "wandb.login() # use your own key"
   ]
  },
  {
   "cell_type": "code",
   "execution_count": 5,
   "id": "7d0effb5-9ed9-42db-8bb7-066789bbcb50",
   "metadata": {
    "executionInfo": {
     "elapsed": 14,
     "status": "ok",
     "timestamp": 1756598967875,
     "user": {
      "displayName": "Tumelo Mkwambe",
      "userId": "15689771398296361782"
     },
     "user_tz": -120
    },
    "id": "7d0effb5-9ed9-42db-8bb7-066789bbcb50"
   },
   "outputs": [],
   "source": [
    "class Encoder(nn.Module):\n",
    "    def __init__(self, input_channels, output_channels):\n",
    "        super().__init__()\n",
    "        self.block = nn.Sequential(\n",
    "            nn.Conv2d(input_channels, output_channels, kernel_size = 3, padding = 1),\n",
    "            nn.ReLU(inplace = True),\n",
    "            nn.Conv2d(output_channels, output_channels, kernel_size = 3, padding = 1),\n",
    "            nn.ReLU(inplace = True)\n",
    "        )\n",
    "\n",
    "    def forward(self, feature_bank):\n",
    "        feature_bank = self.block(feature_bank)\n",
    "        return feature_bank"
   ]
  },
  {
   "cell_type": "code",
   "execution_count": 6,
   "id": "9d111f90-051c-4a56-9421-942721ff50ea",
   "metadata": {
    "executionInfo": {
     "elapsed": 10,
     "status": "ok",
     "timestamp": 1756598968144,
     "user": {
      "displayName": "Tumelo Mkwambe",
      "userId": "15689771398296361782"
     },
     "user_tz": -120
    },
    "id": "9d111f90-051c-4a56-9421-942721ff50ea"
   },
   "outputs": [],
   "source": [
    "class Decoder(nn.Module):\n",
    "    def __init__(self, input_channels, output_channels):\n",
    "        super().__init__()\n",
    "        self.block = nn.Sequential(\n",
    "            nn.Conv2d(input_channels, output_channels, kernel_size = 3, padding = 1),\n",
    "            nn.ReLU(inplace = True),\n",
    "            nn.Conv2d(output_channels, output_channels, kernel_size = 3, padding = 1),\n",
    "            nn.ReLU(inplace = True)\n",
    "        )\n",
    "\n",
    "    def forward(self, decoder_feature_bank, encoder_feature_bank):\n",
    "\n",
    "        if decoder_feature_bank.shape[2:] != encoder_feature_bank.shape[2:]:\n",
    "            decoder_feature_bank = F.interpolate(\n",
    "                decoder_feature_bank,\n",
    "                size=encoder_feature_bank.shape[2:],\n",
    "                mode='bilinear',\n",
    "                align_corners=False\n",
    "            )\n",
    "\n",
    "        feature_bank = torch.cat([decoder_feature_bank, encoder_feature_bank], dim = 1)\n",
    "        feature_bank = self.block(feature_bank)\n",
    "        return feature_bank"
   ]
  },
  {
   "cell_type": "code",
   "execution_count": 7,
   "id": "904b345d-9b09-4af1-b471-e9f28e1be0cf",
   "metadata": {
    "executionInfo": {
     "elapsed": 22,
     "status": "ok",
     "timestamp": 1756598968383,
     "user": {
      "displayName": "Tumelo Mkwambe",
      "userId": "15689771398296361782"
     },
     "user_tz": -120
    },
    "id": "904b345d-9b09-4af1-b471-e9f28e1be0cf"
   },
   "outputs": [],
   "source": [
    "class U_Net(nn.Module):\n",
    "    def __init__(self):\n",
    "        super().__init__()\n",
    "        channels = [3, 64, 128, 256, 512, 1024]\n",
    "        self.encoder = nn.ModuleList([\n",
    "            Encoder(channels[i], channels[i + 1]) for i in range(len(channels) - 1)\n",
    "        ])\n",
    "        channels.reverse()\n",
    "        self.decoder = nn.ModuleList([\n",
    "            Decoder(channels[i], channels[i + 1]) for i in range(len(channels) - 2)\n",
    "        ])\n",
    "\n",
    "        self.max_pool = nn.MaxPool2d(kernel_size = 2, stride = 2)\n",
    "        self.convUps = nn.ModuleList([\n",
    "            nn.ConvTranspose2d(channels[i], channels[i + 1], kernel_size = 2, stride = 2) for i in range(len(channels) - 2)\n",
    "        ])\n",
    "\n",
    "        self.final_conv = nn.Conv2d(64, 2, kernel_size = 3, padding = 1)\n",
    "\n",
    "\n",
    "    def forward(self, img):\n",
    "\n",
    "        encoder_feature_banks = []\n",
    "        feature_bank = img\n",
    "\n",
    "        for idx, block in enumerate(self.encoder):\n",
    "            feature_bank = block(feature_bank)\n",
    "\n",
    "            if idx < len(self.encoder) - 1:\n",
    "                encoder_feature_banks.append(feature_bank)\n",
    "                feature_bank = self.max_pool(feature_bank)\n",
    "\n",
    "        encoder_feature_banks.reverse()\n",
    "\n",
    "        for idx, block in enumerate(self.decoder):\n",
    "            feature_bank = self.convUps[idx](feature_bank)\n",
    "            feature_bank = block(feature_bank, encoder_feature_banks[idx])\n",
    "\n",
    "        output = self.final_conv(feature_bank)\n",
    "\n",
    "        return output"
   ]
  },
  {
   "cell_type": "code",
   "execution_count": 8,
   "id": "0e911df7-e37c-4a53-8d5b-973fae2c00ef",
   "metadata": {
    "executionInfo": {
     "elapsed": 34,
     "status": "ok",
     "timestamp": 1756598968637,
     "user": {
      "displayName": "Tumelo Mkwambe",
      "userId": "15689771398296361782"
     },
     "user_tz": -120
    },
    "id": "0e911df7-e37c-4a53-8d5b-973fae2c00ef"
   },
   "outputs": [],
   "source": [
    "class ImageDataset(Dataset):\n",
    "    def __init__(self, data):\n",
    "        self.data = data\n",
    "\n",
    "    def __len__(self):\n",
    "        return len(self.data)\n",
    "\n",
    "    def __getitem__(self, idx):\n",
    "        image, mask = self.data[idx]\n",
    "        return image, mask"
   ]
  },
  {
   "cell_type": "code",
   "execution_count": 9,
   "id": "241705cb-5baa-4c51-be8e-e169ba7ef6bc",
   "metadata": {
    "executionInfo": {
     "elapsed": 28470,
     "status": "ok",
     "timestamp": 1756598997350,
     "user": {
      "displayName": "Tumelo Mkwambe",
      "userId": "15689771398296361782"
     },
     "user_tz": -120
    },
    "id": "241705cb-5baa-4c51-be8e-e169ba7ef6bc"
   },
   "outputs": [],
   "source": [
    "def retrieve_data(type_, img_nums):\n",
    "    data = []\n",
    "\n",
    "    for img_num in img_nums:\n",
    "        img_label = cv2.imread(f'./images-1024x768/{type_}/image-{img_num}.png')\n",
    "        img_target = cv2.imread(f'./masks-1024x768/{type_}/mask-{img_num}.png', cv2.IMREAD_GRAYSCALE)\n",
    "        foreground = (img_target > 0).astype(np.float32)\n",
    "        background = 1.0 - foreground\n",
    "        img_target = np.stack([background, foreground], axis = 0)\n",
    "        data.append([img_label, img_target])\n",
    "\n",
    "    return data\n",
    "\n",
    "train_data = retrieve_data('train', [2, 7, 10, 12, 21, 24, 27, 28, 30, 43])\n",
    "val_data = retrieve_data('val', [1, 11, 22, 32])\n",
    "test_data = retrieve_data('test', [4, 16, 29, 36])"
   ]
  },
  {
   "cell_type": "code",
   "execution_count": 10,
   "id": "6c4c0bc0-d25c-49d5-8182-b6885854e8f0",
   "metadata": {
    "executionInfo": {
     "elapsed": 192,
     "status": "ok",
     "timestamp": 1756598997566,
     "user": {
      "displayName": "Tumelo Mkwambe",
      "userId": "15689771398296361782"
     },
     "user_tz": -120
    },
    "id": "6c4c0bc0-d25c-49d5-8182-b6885854e8f0"
   },
   "outputs": [],
   "source": [
    "def preprocess_img(img):\n",
    "    image_tensor = torch.tensor(img, dtype = torch.float32)\n",
    "    image_tensor = image_tensor.permute(2, 0, 1)\n",
    "    return image_tensor / 255.0\n",
    "\n",
    "def preprocess_mask(img):\n",
    "    image_tensor = torch.tensor(img, dtype = torch.float32)\n",
    "    return image_tensor\n",
    "\n",
    "train_data = [[preprocess_img(entry[0]), preprocess_mask(entry[1])] for entry in train_data]\n",
    "val_data = [[preprocess_img(entry[0]), preprocess_mask(entry[1])] for entry in val_data]\n",
    "test_data = [[preprocess_img(entry[0]), preprocess_mask(entry[1])] for entry in test_data]"
   ]
  },
  {
   "cell_type": "code",
   "execution_count": 11,
   "id": "ig02S22kO98n",
   "metadata": {
    "executionInfo": {
     "elapsed": 19,
     "status": "ok",
     "timestamp": 1756598997588,
     "user": {
      "displayName": "Tumelo Mkwambe",
      "userId": "15689771398296361782"
     },
     "user_tz": -120
    },
    "id": "ig02S22kO98n"
   },
   "outputs": [],
   "source": [
    "def metrics(true_masks, predictions):\n",
    "\n",
    "    predictions = np.concatenate(predictions).flatten()\n",
    "    true_masks = np.concatenate(true_masks).flatten()\n",
    "\n",
    "    accuracy = accuracy_score(true_masks, predictions)\n",
    "    precision = precision_score(true_masks, predictions, zero_division = 0)\n",
    "    recall = recall_score(true_masks, predictions, zero_division = 0)\n",
    "    f1 = f1_score(true_masks, predictions, zero_division = 0)\n",
    "\n",
    "    iou = []\n",
    "    num_classes = len(np.unique(true_masks))\n",
    "    for i in range(num_classes):\n",
    "        intersection = np.sum((true_masks == i) & (predictions == i))\n",
    "        union = np.sum((true_masks == i) | (predictions == i))\n",
    "        iou.append(intersection / union if union != 0 else 0)\n",
    "\n",
    "    return accuracy, precision, recall, f1, iou"
   ]
  },
  {
   "cell_type": "code",
   "execution_count": 15,
   "id": "URCGjHnrPAOv",
   "metadata": {
    "executionInfo": {
     "elapsed": 49,
     "status": "ok",
     "timestamp": 1756599965043,
     "user": {
      "displayName": "Tumelo Mkwambe",
      "userId": "15689771398296361782"
     },
     "user_tz": -120
    },
    "id": "URCGjHnrPAOv"
   },
   "outputs": [],
   "source": [
    "def nontraining_loop(type_, model, data, batch_size = 1, device=\"cuda\"):\n",
    "\n",
    "    dataset = ImageDataset(data)\n",
    "    dataloader = DataLoader(dataset, batch_size, shuffle=False)\n",
    "\n",
    "    loss_function = nn.CrossEntropyLoss()\n",
    "    total_loss = 0.0\n",
    "\n",
    "    predictions = []\n",
    "    true_masks = []\n",
    "\n",
    "    model.eval()\n",
    "    with torch.no_grad():\n",
    "        for image, mask in dataloader:\n",
    "            image = image.to(device)\n",
    "            mask = mask.to(device)\n",
    "\n",
    "            logits = model(image)\n",
    "            loss = loss_function(logits, torch.argmax(mask, dim=1))\n",
    "            total_loss += loss.item()\n",
    "\n",
    "            prediction = torch.argmax(logits, dim=1)\n",
    "            true_mask = torch.argmax(mask, dim=1)\n",
    "\n",
    "            predictions.append(prediction.cpu().numpy())\n",
    "            true_masks.append(true_mask.cpu().numpy())\n",
    "\n",
    "    avg_loss = total_loss / len(dataloader)\n",
    "    accuracy, precision, recall, f1, iou = metrics(true_masks, predictions)\n",
    "\n",
    "    wandb.log({\n",
    "          f\"{type_} Loss\": avg_loss,\n",
    "          f\"{type_} Accuracy\": accuracy,\n",
    "          f\"{type_} Precision\": precision,\n",
    "          f\"{type_} Recall\": recall,\n",
    "          f\"{type_} F1\": f1,\n",
    "          f\"{type_} IoU\": iou[1]\n",
    "    })\n",
    "\n",
    "    print(f\"{type_} | Loss: {avg_loss:.4f} | Accuracy: {accuracy:.4f} | Precision: {precision} | Recall: {recall} | F1 Score: {f1} | IoU: {iou}  \\n\")\n",
    "\n",
    "    return avg_loss, accuracy, precision, f1, iou\n"
   ]
  },
  {
   "cell_type": "code",
   "execution_count": 21,
   "id": "fcebdc78-b6d8-4e03-8d76-828f26493be5",
   "metadata": {
    "executionInfo": {
     "elapsed": 16,
     "status": "ok",
     "timestamp": 1756600778842,
     "user": {
      "displayName": "Tumelo Mkwambe",
      "userId": "15689771398296361782"
     },
     "user_tz": -120
    },
    "id": "fcebdc78-b6d8-4e03-8d76-828f26493be5"
   },
   "outputs": [],
   "source": [
    "def training_loop(train_data, val_data, num_epochs = 10, batch_size = 1, learning_rate = 1e-3, device = \"cuda\"):\n",
    "\n",
    "    train_dataset = ImageDataset(train_data)\n",
    "    train_dataloader = DataLoader(train_dataset, batch_size, shuffle = True)\n",
    "\n",
    "    model = U_Net().to(device)\n",
    "\n",
    "    loss_function = nn.CrossEntropyLoss()\n",
    "    optimizer = torch.optim.Adam(model.parameters(), lr = learning_rate)\n",
    "\n",
    "    train_loss = 0.0\n",
    "    predictions = []\n",
    "    true_masks = []\n",
    "\n",
    "    model.train()\n",
    "    for epoch in range(num_epochs):\n",
    "        for image, mask in train_dataloader:\n",
    "            image = image.to(device)\n",
    "            mask = mask.to(device)\n",
    "            optimizer.zero_grad()\n",
    "            logits = model(image)\n",
    "            loss = loss_function(logits, mask)\n",
    "            loss.backward()\n",
    "            optimizer.step()\n",
    "            train_loss += loss.item()\n",
    "\n",
    "            prediction = torch.argmax(logits, dim=1)\n",
    "            true_mask = torch.argmax(mask, dim=1)\n",
    "\n",
    "            predictions.append(prediction.cpu().numpy())\n",
    "            true_masks.append(true_mask.cpu().numpy())\n",
    "\n",
    "        accuracy, precision, recall, f1, iou = metrics(true_masks, predictions)\n",
    "\n",
    "        wandb.log({\n",
    "              f\"Training Loss\": train_loss,\n",
    "              f\"Training Accuracy\": accuracy,\n",
    "              f\"Training Precision\": precision,\n",
    "              f\"Training Recall\": recall,\n",
    "              f\"Training F1\": f1,\n",
    "              f\"Training IoU\": iou[1]\n",
    "        })\n",
    "\n",
    "        print(f\"Epoch: {epoch} | Training | Loss: {train_loss:.4f} | Accuracy: {accuracy:.4f} | Precision: {precision} | Recall: {recall} | F1 Score: {f1} | IoU: {iou}\")\n",
    "        val_loss = nontraining_loop(\"Validation\", model, val_data, 1, device)\n",
    "\n",
    "    return model, iou[1]"
   ]
  },
  {
   "cell_type": "code",
   "execution_count": null,
   "id": "83126115-86ad-48d8-b09a-8e5eb25ebc9e",
   "metadata": {},
   "outputs": [],
   "source": [
    "def find_best_hyperparameters():\n",
    "\n",
    "    num_epochs = [10]\n",
    "    batch_size = [1, 2, 3, 4, 5]\n",
    "    learning_rate = [1e-2, 1e-3, 1e-4]\n",
    "\n",
    "    best_model = None\n",
    "    best_iou = 0\n",
    "\n",
    "    for idx, combination in enumerate(list(itertools.product(num_epochs, batch_size, learning_rate))):\n",
    "\n",
    "        wandb.init(entity = \"computer-vision-wits\", project = \"U-Net\", name = f\"run_{idx}\")\n",
    "\n",
    "        config = wandb.config\n",
    "        config.epochs = combination[0]\n",
    "        config.batch_size = combination[1]\n",
    "        config.learning_rate = combination[2]\n",
    "\n",
    "        model, iou = training_loop(\n",
    "            train_data,\n",
    "            val_data,\n",
    "            num_epochs = combination[0],\n",
    "            batch_size = combination[1],\n",
    "            learning_rate = combination[2],\n",
    "            device = \"cuda\"\n",
    "        )\n",
    "\n",
    "        if iou > best_iou:\n",
    "          best_iou = iou\n",
    "          best_model = model\n",
    "\n",
    "        wandb.finish()\n",
    "\n",
    "    return model\n",
    "\n",
    "model = find_best_hyperparameters()"
   ]
  },
  {
   "cell_type": "code",
   "execution_count": null,
   "id": "7f55741e-bdd3-4114-9218-fc7ed39ed2ad",
   "metadata": {},
   "outputs": [],
   "source": [
    "wandb.init(entity = \"computer-vision-wits\", project = \"U-Net\", name = f\"u-run-5\")\n",
    "\n",
    "training_loop(train_data, val_data, num_epochs = 10, batch_size = len(train_data), learning_rate = 1e-3, device = \"cuda\")\n",
    "\n",
    "wandb.finish()"
   ]
  },
  {
   "cell_type": "code",
   "execution_count": null,
   "id": "OotNsciesQAJ",
   "metadata": {
    "id": "OotNsciesQAJ"
   },
   "outputs": [],
   "source": [
    "wandb.init(entity = \"computer-vision-wits\", project = \"U-Net\", name = f\"u-net-base-testing\")\n",
    "\n",
    "nontraining_loop(\n",
    "    \"Testing\",\n",
    "    model = model,\n",
    "    data = test_data,\n",
    "    batch_size = 4,\n",
    "    device = \"cuda\"\n",
    ")\n",
    "\n",
    "wandb.finish()"
   ]
  }
 ],
 "metadata": {
  "accelerator": "GPU",
  "colab": {
   "gpuType": "T4",
   "provenance": []
  },
  "kernelspec": {
   "display_name": "Python 3 (ipykernel)",
   "language": "python",
   "name": "python3"
  },
  "language_info": {
   "codemirror_mode": {
    "name": "ipython",
    "version": 3
   },
   "file_extension": ".py",
   "mimetype": "text/x-python",
   "name": "python",
   "nbconvert_exporter": "python",
   "pygments_lexer": "ipython3",
   "version": "3.12.7"
  }
 },
 "nbformat": 4,
 "nbformat_minor": 5
}
