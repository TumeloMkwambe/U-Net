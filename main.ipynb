{
 "cells": [
  {
   "cell_type": "code",
   "execution_count": null,
   "id": "ff969dc7-94d1-47c8-a364-09080cb1735b",
   "metadata": {},
   "outputs": [],
   "source": [
    "from google.colab import drive\n",
    "drive.mount('/content/drive')"
   ]
  },
  {
   "cell_type": "code",
   "execution_count": null,
   "id": "4d284220-e119-46cc-aca5-1f335477c6d5",
   "metadata": {},
   "outputs": [],
   "source": [
    "import os\n",
    "project_path = \"/content/drive/MyDrive/Deep Learning/U-Net\"\n",
    "os.chdir(project_path)\n",
    "print(\"Current directory:\", os.getcwd())"
   ]
  },
  {
   "cell_type": "code",
   "execution_count": null,
   "id": "7b50fd05-3c0e-45de-b6d4-0c956e2d0a87",
   "metadata": {
    "executionInfo": {
     "elapsed": 5173,
     "status": "ok",
     "timestamp": 1756972131214,
     "user": {
      "displayName": "Tumelo Mkwambe",
      "userId": "15689771398296361782"
     },
     "user_tz": -120
    },
    "id": "7b50fd05-3c0e-45de-b6d4-0c956e2d0a87"
   },
   "outputs": [],
   "source": [
    "import torch\n",
    "from u_net import U_Net\n",
    "from data import get_data, view\n",
    "from loops import training_loop, performance_report"
   ]
  },
  {
   "cell_type": "code",
   "execution_count": 2,
   "id": "dd659d6b-a5a8-4510-af02-f4d9aca459bc",
   "metadata": {
    "executionInfo": {
     "elapsed": 3,
     "status": "ok",
     "timestamp": 1756970486138,
     "user": {
      "displayName": "Tumelo Mkwambe",
      "userId": "15689771398296361782"
     },
     "user_tz": -120
    },
    "id": "dd659d6b-a5a8-4510-af02-f4d9aca459bc"
   },
   "outputs": [],
   "source": [
    "device = torch.device(\"cuda\" if torch.cuda.is_available() else \"cpu\")"
   ]
  },
  {
   "cell_type": "code",
   "execution_count": 3,
   "id": "90c092bd-0c75-4420-bd34-d3d8c8b380c6",
   "metadata": {
    "executionInfo": {
     "elapsed": 781,
     "status": "ok",
     "timestamp": 1756970974367,
     "user": {
      "displayName": "Tumelo Mkwambe",
      "userId": "15689771398296361782"
     },
     "user_tz": -120
    },
    "id": "90c092bd-0c75-4420-bd34-d3d8c8b380c6"
   },
   "outputs": [],
   "source": [
    "train_data = get_data('train', [2, 7, 10, 12, 21, 24, 27, 28, 30, 43])\n",
    "val_data = get_data('val', [1, 11, 22, 32])\n",
    "test_data = get_data('test', [4, 16, 29, 36])"
   ]
  },
  {
   "cell_type": "code",
   "execution_count": 4,
   "id": "9bEIhMgHXzl-",
   "metadata": {
    "id": "9bEIhMgHXzl-"
   },
   "outputs": [],
   "source": [
    "model = U_Net(\n",
    "    in_channels = 3, \n",
    "    out_channels = 2, \n",
    "    start_channels = 64, \n",
    "    depth = 4, \n",
    "    bilinear = False\n",
    ")"
   ]
  },
  {
   "cell_type": "code",
   "execution_count": null,
   "id": "28a6066d-f8e9-4099-a83b-4395fbacb602",
   "metadata": {},
   "outputs": [],
   "source": [
    "model = training_loop(\n",
    "    model = model, \n",
    "    training_data = train_data, \n",
    "    validation_data = val_data, \n",
    "    batch = 2, \n",
    "    learning_rate = 1e-3, \n",
    "    num_epochs = 10, \n",
    "    device = device\n",
    ")\n",
    "\n",
    "torch.torch.cuda.empty_cache()"
   ]
  }
 ],
 "metadata": {
  "accelerator": "GPU",
  "colab": {
   "gpuType": "T4",
   "provenance": []
  },
  "kernelspec": {
   "display_name": "Python 3 (ipykernel)",
   "language": "python",
   "name": "python3"
  },
  "language_info": {
   "codemirror_mode": {
    "name": "ipython",
    "version": 3
   },
   "file_extension": ".py",
   "mimetype": "text/x-python",
   "name": "python",
   "nbconvert_exporter": "python",
   "pygments_lexer": "ipython3",
   "version": "3.13.5"
  }
 },
 "nbformat": 4,
 "nbformat_minor": 5
}
