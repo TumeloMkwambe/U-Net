{
 "cells": [
  {
   "cell_type": "code",
   "execution_count": 1,
   "id": "ac77791a-34f3-450c-9e9a-eaad349cc94e",
   "metadata": {
    "executionInfo": {
     "elapsed": 19,
     "status": "ok",
     "timestamp": 1756498901931,
     "user": {
      "displayName": "Tumelo Mkwambe",
      "userId": "15689771398296361782"
     },
     "user_tz": -120
    },
    "id": "ac77791a-34f3-450c-9e9a-eaad349cc94e"
   },
   "outputs": [],
   "source": [
    "import cv2\n",
    "import torch\n",
    "import numpy as np\n",
    "from torch import nn\n",
    "import torch.nn.functional as F\n",
    "from torch.utils.data import DataLoader, Dataset"
   ]
  },
  {
   "cell_type": "code",
   "execution_count": 2,
   "id": "6MeFUiNpa7B_",
   "metadata": {
    "executionInfo": {
     "elapsed": 6,
     "status": "ok",
     "timestamp": 1756498903164,
     "user": {
      "displayName": "Tumelo Mkwambe",
      "userId": "15689771398296361782"
     },
     "user_tz": -120
    },
    "id": "6MeFUiNpa7B_"
   },
   "outputs": [],
   "source": [
    "device = torch.device(\"cuda\" if torch.cuda.is_available() else \"cpu\")"
   ]
  },
  {
   "cell_type": "code",
   "execution_count": 3,
   "id": "7d0effb5-9ed9-42db-8bb7-066789bbcb50",
   "metadata": {
    "executionInfo": {
     "elapsed": 3,
     "status": "ok",
     "timestamp": 1756498904856,
     "user": {
      "displayName": "Tumelo Mkwambe",
      "userId": "15689771398296361782"
     },
     "user_tz": -120
    },
    "id": "7d0effb5-9ed9-42db-8bb7-066789bbcb50"
   },
   "outputs": [],
   "source": [
    "class Encoder(nn.Module):\n",
    "    def __init__(self, input_channels, output_channels):\n",
    "        super().__init__()\n",
    "        self.block = nn.Sequential(\n",
    "            nn.Conv2d(input_channels, output_channels, kernel_size = 3, padding = 1),\n",
    "            nn.ReLU(inplace = True),\n",
    "            nn.Conv2d(output_channels, output_channels, kernel_size = 3, padding = 1),\n",
    "            nn.ReLU(inplace = True)\n",
    "        )\n",
    "\n",
    "    def forward(self, feature_bank):\n",
    "        feature_bank = self.block(feature_bank)\n",
    "        return feature_bank"
   ]
  },
  {
   "cell_type": "code",
   "execution_count": 4,
   "id": "9d111f90-051c-4a56-9421-942721ff50ea",
   "metadata": {
    "executionInfo": {
     "elapsed": 2,
     "status": "ok",
     "timestamp": 1756498905428,
     "user": {
      "displayName": "Tumelo Mkwambe",
      "userId": "15689771398296361782"
     },
     "user_tz": -120
    },
    "id": "9d111f90-051c-4a56-9421-942721ff50ea"
   },
   "outputs": [],
   "source": [
    "class Decoder(nn.Module):\n",
    "    def __init__(self, input_channels, output_channels):\n",
    "        super().__init__()\n",
    "        self.block = nn.Sequential(\n",
    "            nn.Conv2d(input_channels, output_channels, kernel_size = 3, padding = 1),\n",
    "            nn.ReLU(inplace = True),\n",
    "            nn.Conv2d(output_channels, output_channels, kernel_size = 3, padding = 1),\n",
    "            nn.ReLU(inplace = True)\n",
    "        )\n",
    "\n",
    "    def forward(self, decoder_feature_bank, encoder_feature_bank):\n",
    "\n",
    "        if decoder_feature_bank.shape[2:] != encoder_feature_bank.shape[2:]:\n",
    "            decoder_feature_bank = F.interpolate(\n",
    "                decoder_feature_bank,\n",
    "                size=encoder_feature_bank.shape[2:],\n",
    "                mode='bilinear',\n",
    "                align_corners=False\n",
    "            )\n",
    "\n",
    "        feature_bank = torch.cat([decoder_feature_bank, encoder_feature_bank], dim = 1)\n",
    "        feature_bank = self.block(feature_bank)\n",
    "        return feature_bank"
   ]
  },
  {
   "cell_type": "code",
   "execution_count": 5,
   "id": "904b345d-9b09-4af1-b471-e9f28e1be0cf",
   "metadata": {
    "executionInfo": {
     "elapsed": 2,
     "status": "ok",
     "timestamp": 1756498907055,
     "user": {
      "displayName": "Tumelo Mkwambe",
      "userId": "15689771398296361782"
     },
     "user_tz": -120
    },
    "id": "904b345d-9b09-4af1-b471-e9f28e1be0cf"
   },
   "outputs": [],
   "source": [
    "class U_Net(nn.Module):\n",
    "    def __init__(self):\n",
    "        super().__init__()\n",
    "        channels = [3, 64, 128, 256, 512, 1024]\n",
    "        self.encoder = nn.ModuleList([\n",
    "            Encoder(channels[i], channels[i + 1]) for i in range(len(channels) - 1)\n",
    "        ])\n",
    "        channels.reverse()\n",
    "        self.decoder = nn.ModuleList([\n",
    "            Decoder(channels[i], channels[i + 1]) for i in range(len(channels) - 2)\n",
    "        ])\n",
    "\n",
    "        self.max_pool = nn.MaxPool2d(kernel_size = 2, stride = 2)\n",
    "        self.convUps = nn.ModuleList([\n",
    "            nn.ConvTranspose2d(channels[i], channels[i + 1], kernel_size = 2, stride = 2) for i in range(len(channels) - 2)\n",
    "        ])\n",
    "\n",
    "        self.final_conv = nn.Conv2d(64, 2, kernel_size = 3, padding = 1)\n",
    "\n",
    "\n",
    "    def forward(self, img):\n",
    "\n",
    "        encoder_feature_banks = []\n",
    "        feature_bank = img\n",
    "\n",
    "        for idx, block in enumerate(self.encoder):\n",
    "            feature_bank = block(feature_bank)\n",
    "\n",
    "            if idx < len(self.encoder) - 1:\n",
    "                encoder_feature_banks.append(feature_bank)\n",
    "                feature_bank = self.max_pool(feature_bank)\n",
    "\n",
    "        encoder_feature_banks.reverse()\n",
    "\n",
    "        for idx, block in enumerate(self.decoder):\n",
    "            feature_bank = self.convUps[idx](feature_bank)\n",
    "            feature_bank = block(feature_bank, encoder_feature_banks[idx])\n",
    "\n",
    "        output = self.final_conv(feature_bank)\n",
    "\n",
    "        return output"
   ]
  },
  {
   "cell_type": "code",
   "execution_count": 6,
   "id": "0e911df7-e37c-4a53-8d5b-973fae2c00ef",
   "metadata": {
    "executionInfo": {
     "elapsed": 9,
     "status": "ok",
     "timestamp": 1756498909090,
     "user": {
      "displayName": "Tumelo Mkwambe",
      "userId": "15689771398296361782"
     },
     "user_tz": -120
    },
    "id": "0e911df7-e37c-4a53-8d5b-973fae2c00ef"
   },
   "outputs": [],
   "source": [
    "class ImageDataset(Dataset):\n",
    "    def __init__(self, data):\n",
    "        self.data = data\n",
    "\n",
    "    def __len__(self):\n",
    "        return len(self.data)\n",
    "\n",
    "    def __getitem__(self, idx):\n",
    "        image, mask = self.data[idx]\n",
    "        return image, mask"
   ]
  },
  {
   "cell_type": "code",
   "execution_count": 7,
   "id": "241705cb-5baa-4c51-be8e-e169ba7ef6bc",
   "metadata": {
    "executionInfo": {
     "elapsed": 717,
     "status": "ok",
     "timestamp": 1756498910324,
     "user": {
      "displayName": "Tumelo Mkwambe",
      "userId": "15689771398296361782"
     },
     "user_tz": -120
    },
    "id": "241705cb-5baa-4c51-be8e-e169ba7ef6bc"
   },
   "outputs": [],
   "source": [
    "def retrieve_data(type_, img_nums):\n",
    "    data = []\n",
    "\n",
    "    for img_num in img_nums:\n",
    "        img_label = cv2.imread(f'./images-1024x768/{type_}/image-{img_num}.png')\n",
    "        img_target = cv2.imread(f'./masks-1024x768/{type_}/mask-{img_num}.png', cv2.IMREAD_GRAYSCALE)\n",
    "        foreground = (img_target > 0).astype(np.float32)\n",
    "        background = 1.0 - foreground\n",
    "        img_target = np.stack([foreground, background], axis = 0)\n",
    "        data.append([img_label, img_target])\n",
    "\n",
    "    return data\n",
    "\n",
    "train_data = retrieve_data('train', [2, 7, 10, 12, 21, 24, 27, 28, 30, 43])\n",
    "val_data = retrieve_data('val', [1, 11, 22, 32])\n",
    "test_data = retrieve_data('test', [4, 16, 29, 36])"
   ]
  },
  {
   "cell_type": "code",
   "execution_count": 8,
   "id": "6c4c0bc0-d25c-49d5-8182-b6885854e8f0",
   "metadata": {
    "executionInfo": {
     "elapsed": 152,
     "status": "ok",
     "timestamp": 1756498911119,
     "user": {
      "displayName": "Tumelo Mkwambe",
      "userId": "15689771398296361782"
     },
     "user_tz": -120
    },
    "id": "6c4c0bc0-d25c-49d5-8182-b6885854e8f0"
   },
   "outputs": [],
   "source": [
    "def preprocess_img(img):\n",
    "    image_tensor = torch.tensor(img, dtype = torch.float32)\n",
    "    image_tensor = image_tensor.permute(2, 0, 1)\n",
    "    return image_tensor / 255.0\n",
    "\n",
    "def preprocess_mask(img):\n",
    "    image_tensor = torch.tensor(img, dtype = torch.float32)\n",
    "    return image_tensor\n",
    "\n",
    "train_data = [[preprocess_img(entry[0]), preprocess_mask(entry[1])] for entry in train_data]\n",
    "val_data = [[preprocess_img(entry[0]), preprocess_mask(entry[1])] for entry in val_data]\n",
    "test_data = [[preprocess_img(entry[0]), preprocess_mask(entry[1])] for entry in test_data]"
   ]
  },
  {
   "cell_type": "code",
   "execution_count": 9,
   "id": "fcebdc78-b6d8-4e03-8d76-828f26493be5",
   "metadata": {
    "executionInfo": {
     "elapsed": 6,
     "status": "ok",
     "timestamp": 1756499096659,
     "user": {
      "displayName": "Tumelo Mkwambe",
      "userId": "15689771398296361782"
     },
     "user_tz": -120
    },
    "id": "fcebdc78-b6d8-4e03-8d76-828f26493be5"
   },
   "outputs": [],
   "source": [
    "def training_loop(train_data, val_data, num_epochs = 10, batch_size = 1, learning_rate = 1e-2, device = \"cuda\"):\n",
    "\n",
    "    train_dataset = ImageDataset(train_data)\n",
    "    train_dataloader = DataLoader(train_dataset, batch_size, shuffle = True)\n",
    "\n",
    "    model = U_Net().to(device)\n",
    "    loss_function = nn.CrossEntropyLoss()\n",
    "    optimizer = torch.optim.Adam(model.parameters(), lr = learning_rate)\n",
    "\n",
    "    model.train()\n",
    "\n",
    "    for epoch in range(num_epochs):\n",
    "        for image, mask in train_dataloader:\n",
    "            image = image.to(device)\n",
    "            mask = mask.to(device)\n",
    "            optimizer.zero_grad()\n",
    "            logits = model(image)\n",
    "            loss = loss_function(logits, mask)\n",
    "            loss.backward()\n",
    "            optimizer.step()\n",
    "        print(f'Epoch {epoch} | Loss: {loss.item()}')\n",
    "\n",
    "        validation_loop(model, val_data, 1024, device)\n",
    "\n",
    "    return model"
   ]
  },
  {
   "cell_type": "code",
   "execution_count": 10,
   "id": "0a5b4c7f-9728-4728-9e52-cc03f57cc6bf",
   "metadata": {
    "executionInfo": {
     "elapsed": 2,
     "status": "ok",
     "timestamp": 1756499220871,
     "user": {
      "displayName": "Tumelo Mkwambe",
      "userId": "15689771398296361782"
     },
     "user_tz": -120
    },
    "id": "0a5b4c7f-9728-4728-9e52-cc03f57cc6bf"
   },
   "outputs": [],
   "source": [
    "def validation_loop(model, data, batch_size = 1, device = \"cuda\"):\n",
    "\n",
    "    dataset = ImageDataset(data)\n",
    "    dataloader = DataLoader(dataset, batch_size, shuffle = False)\n",
    "\n",
    "    loss_function = nn.CrossEntropyLoss()\n",
    "    total_loss = 0.0\n",
    "    correct = 0\n",
    "    total = 0\n",
    "\n",
    "    model.eval()\n",
    "    with torch.no_grad():\n",
    "        for image, mask in dataloader:\n",
    "            image = image.to(device)\n",
    "            mask = mask.to(device)\n",
    "\n",
    "            logits = model(image)\n",
    "            loss = loss_function(logits, mask)\n",
    "            total_loss += loss.item()\n",
    "\n",
    "            total += image.size(0)\n",
    "\n",
    "    avg_loss = total_loss / len(dataloader)\n",
    "    accuracy = correct / total\n",
    "    print(f\"Validation Loss: {avg_loss:.4f}\")"
   ]
  },
  {
   "cell_type": "code",
   "execution_count": 48,
   "id": "-tdXMYrTeiZC",
   "metadata": {
    "colab": {
     "base_uri": "https://localhost:8080/"
    },
    "executionInfo": {
     "elapsed": 67255,
     "status": "ok",
     "timestamp": 1756499289639,
     "user": {
      "displayName": "Tumelo Mkwambe",
      "userId": "15689771398296361782"
     },
     "user_tz": -120
    },
    "id": "-tdXMYrTeiZC",
    "outputId": "bdfa0b03-3a02-4297-82d8-63746bc8977f"
   },
   "outputs": [
    {
     "name": "stdout",
     "output_type": "stream",
     "text": [
      "Epoch 0 | Loss: 1088750080.0\n",
      "Validation Loss: 15893183.0000\n",
      "Epoch 1 | Loss: 6698553.5\n",
      "Validation Loss: 82457.6953\n",
      "Epoch 2 | Loss: 1.817455768585205\n",
      "Validation Loss: 2.4299\n",
      "Epoch 3 | Loss: 0.7457923889160156\n",
      "Validation Loss: 0.7851\n",
      "Epoch 4 | Loss: 0.6285450458526611\n",
      "Validation Loss: 0.5739\n",
      "Epoch 5 | Loss: 0.5655540227890015\n",
      "Validation Loss: 0.5644\n",
      "Epoch 6 | Loss: 0.5307329893112183\n",
      "Validation Loss: 0.5518\n",
      "Epoch 7 | Loss: 0.6060792207717896\n",
      "Validation Loss: 0.5563\n",
      "Epoch 8 | Loss: 0.5280147790908813\n",
      "Validation Loss: 0.5512\n",
      "Epoch 9 | Loss: 0.5297563672065735\n",
      "Validation Loss: 0.5577\n"
     ]
    },
    {
     "data": {
      "text/plain": [
       "U_Net(\n",
       "  (encoder): ModuleList(\n",
       "    (0): Encoder(\n",
       "      (block): Sequential(\n",
       "        (0): Conv2d(3, 64, kernel_size=(3, 3), stride=(1, 1), padding=(1, 1))\n",
       "        (1): ReLU(inplace=True)\n",
       "        (2): Conv2d(64, 64, kernel_size=(3, 3), stride=(1, 1), padding=(1, 1))\n",
       "        (3): ReLU(inplace=True)\n",
       "      )\n",
       "    )\n",
       "    (1): Encoder(\n",
       "      (block): Sequential(\n",
       "        (0): Conv2d(64, 128, kernel_size=(3, 3), stride=(1, 1), padding=(1, 1))\n",
       "        (1): ReLU(inplace=True)\n",
       "        (2): Conv2d(128, 128, kernel_size=(3, 3), stride=(1, 1), padding=(1, 1))\n",
       "        (3): ReLU(inplace=True)\n",
       "      )\n",
       "    )\n",
       "    (2): Encoder(\n",
       "      (block): Sequential(\n",
       "        (0): Conv2d(128, 256, kernel_size=(3, 3), stride=(1, 1), padding=(1, 1))\n",
       "        (1): ReLU(inplace=True)\n",
       "        (2): Conv2d(256, 256, kernel_size=(3, 3), stride=(1, 1), padding=(1, 1))\n",
       "        (3): ReLU(inplace=True)\n",
       "      )\n",
       "    )\n",
       "    (3): Encoder(\n",
       "      (block): Sequential(\n",
       "        (0): Conv2d(256, 512, kernel_size=(3, 3), stride=(1, 1), padding=(1, 1))\n",
       "        (1): ReLU(inplace=True)\n",
       "        (2): Conv2d(512, 512, kernel_size=(3, 3), stride=(1, 1), padding=(1, 1))\n",
       "        (3): ReLU(inplace=True)\n",
       "      )\n",
       "    )\n",
       "    (4): Encoder(\n",
       "      (block): Sequential(\n",
       "        (0): Conv2d(512, 1024, kernel_size=(3, 3), stride=(1, 1), padding=(1, 1))\n",
       "        (1): ReLU(inplace=True)\n",
       "        (2): Conv2d(1024, 1024, kernel_size=(3, 3), stride=(1, 1), padding=(1, 1))\n",
       "        (3): ReLU(inplace=True)\n",
       "      )\n",
       "    )\n",
       "  )\n",
       "  (decoder): ModuleList(\n",
       "    (0): Decoder(\n",
       "      (block): Sequential(\n",
       "        (0): Conv2d(1024, 512, kernel_size=(3, 3), stride=(1, 1), padding=(1, 1))\n",
       "        (1): ReLU(inplace=True)\n",
       "        (2): Conv2d(512, 512, kernel_size=(3, 3), stride=(1, 1), padding=(1, 1))\n",
       "        (3): ReLU(inplace=True)\n",
       "      )\n",
       "    )\n",
       "    (1): Decoder(\n",
       "      (block): Sequential(\n",
       "        (0): Conv2d(512, 256, kernel_size=(3, 3), stride=(1, 1), padding=(1, 1))\n",
       "        (1): ReLU(inplace=True)\n",
       "        (2): Conv2d(256, 256, kernel_size=(3, 3), stride=(1, 1), padding=(1, 1))\n",
       "        (3): ReLU(inplace=True)\n",
       "      )\n",
       "    )\n",
       "    (2): Decoder(\n",
       "      (block): Sequential(\n",
       "        (0): Conv2d(256, 128, kernel_size=(3, 3), stride=(1, 1), padding=(1, 1))\n",
       "        (1): ReLU(inplace=True)\n",
       "        (2): Conv2d(128, 128, kernel_size=(3, 3), stride=(1, 1), padding=(1, 1))\n",
       "        (3): ReLU(inplace=True)\n",
       "      )\n",
       "    )\n",
       "    (3): Decoder(\n",
       "      (block): Sequential(\n",
       "        (0): Conv2d(128, 64, kernel_size=(3, 3), stride=(1, 1), padding=(1, 1))\n",
       "        (1): ReLU(inplace=True)\n",
       "        (2): Conv2d(64, 64, kernel_size=(3, 3), stride=(1, 1), padding=(1, 1))\n",
       "        (3): ReLU(inplace=True)\n",
       "      )\n",
       "    )\n",
       "  )\n",
       "  (max_pool): MaxPool2d(kernel_size=2, stride=2, padding=0, dilation=1, ceil_mode=False)\n",
       "  (convUps): ModuleList(\n",
       "    (0): ConvTranspose2d(1024, 512, kernel_size=(2, 2), stride=(2, 2))\n",
       "    (1): ConvTranspose2d(512, 256, kernel_size=(2, 2), stride=(2, 2))\n",
       "    (2): ConvTranspose2d(256, 128, kernel_size=(2, 2), stride=(2, 2))\n",
       "    (3): ConvTranspose2d(128, 64, kernel_size=(2, 2), stride=(2, 2))\n",
       "  )\n",
       "  (final_conv): Conv2d(64, 2, kernel_size=(3, 3), stride=(1, 1), padding=(1, 1))\n",
       ")"
      ]
     },
     "execution_count": 48,
     "metadata": {},
     "output_type": "execute_result"
    }
   ],
   "source": [
    "training_loop(\n",
    "    train_data,\n",
    "    val_data,\n",
    "    num_epochs = 10,\n",
    "    batch_size = 1,\n",
    "    learning_rate = 1e-2,\n",
    "    device = \"cuda\"\n",
    ")"
   ]
  },
  {
   "cell_type": "code",
   "execution_count": null,
   "id": "U_v1uYMzetTi",
   "metadata": {
    "id": "U_v1uYMzetTi"
   },
   "outputs": [],
   "source": []
  }
 ],
 "metadata": {
  "accelerator": "GPU",
  "colab": {
   "gpuType": "T4",
   "provenance": []
  },
  "kernelspec": {
   "display_name": "Python 3 (ipykernel)",
   "language": "python",
   "name": "python3"
  },
  "language_info": {
   "codemirror_mode": {
    "name": "ipython",
    "version": 3
   },
   "file_extension": ".py",
   "mimetype": "text/x-python",
   "name": "python",
   "nbconvert_exporter": "python",
   "pygments_lexer": "ipython3",
   "version": "3.12.7"
  }
 },
 "nbformat": 4,
 "nbformat_minor": 5
}
