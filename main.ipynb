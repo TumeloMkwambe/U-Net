{
 "cells": [
  {
   "cell_type": "code",
   "execution_count": 2,
   "id": "E1u0lz8w4PO6",
   "metadata": {
    "colab": {
     "base_uri": "https://localhost:8080/"
    },
    "executionInfo": {
     "elapsed": 33777,
     "status": "ok",
     "timestamp": 1756709449068,
     "user": {
      "displayName": "Tumelo Mkwambe",
      "userId": "17432104495927173009"
     },
     "user_tz": -120
    },
    "id": "E1u0lz8w4PO6",
    "outputId": "2fcd7ee1-4096-4b2b-8180-ec9329aa9c00"
   },
   "outputs": [
    {
     "name": "stdout",
     "output_type": "stream",
     "text": [
      "Mounted at /content/drive\n"
     ]
    }
   ],
   "source": [
    "from google.colab import drive\n",
    "drive.mount('/content/drive')"
   ]
  },
  {
   "cell_type": "code",
   "execution_count": 3,
   "id": "j-PHm4Jb4P1n",
   "metadata": {
    "colab": {
     "base_uri": "https://localhost:8080/"
    },
    "executionInfo": {
     "elapsed": 158,
     "status": "ok",
     "timestamp": 1756709451309,
     "user": {
      "displayName": "Tumelo Mkwambe",
      "userId": "17432104495927173009"
     },
     "user_tz": -120
    },
    "id": "j-PHm4Jb4P1n",
    "outputId": "215708ab-51e7-4f0c-9d8a-73d94ab2a2fb"
   },
   "outputs": [
    {
     "name": "stdout",
     "output_type": "stream",
     "text": [
      "Current directory: /content/drive/MyDrive/U-Net\n"
     ]
    }
   ],
   "source": [
    "import os\n",
    "project_path = \"/content/drive/MyDrive/U-Net\"\n",
    "os.chdir(project_path)\n",
    "print(\"Current directory:\", os.getcwd())"
   ]
  },
  {
   "cell_type": "code",
   "execution_count": 4,
   "id": "2aTZIGhPBetB",
   "metadata": {
    "colab": {
     "base_uri": "https://localhost:8080/"
    },
    "executionInfo": {
     "elapsed": 14421,
     "status": "ok",
     "timestamp": 1756709467413,
     "user": {
      "displayName": "Tumelo Mkwambe",
      "userId": "17432104495927173009"
     },
     "user_tz": -120
    },
    "id": "2aTZIGhPBetB",
    "outputId": "a57ebd5e-14bf-4001-9b97-37382075756c"
   },
   "outputs": [
    {
     "name": "stdout",
     "output_type": "stream",
     "text": [
      "\u001b[?25l   \u001b[90m━━━━━━━━━━━━━━━━━━━━━━━━━━━━━━━━━━━━━━━━\u001b[0m \u001b[32m0.0/154.8 kB\u001b[0m \u001b[31m?\u001b[0m eta \u001b[36m-:--:--\u001b[0m\r",
      "\u001b[2K   \u001b[90m━━━━━━━━━━━━━━━━━━━━━━━━━━━━━━━━━━━━━━━━\u001b[0m \u001b[32m154.8/154.8 kB\u001b[0m \u001b[31m6.5 MB/s\u001b[0m eta \u001b[36m0:00:00\u001b[0m\n",
      "\u001b[?25h"
     ]
    }
   ],
   "source": [
    "!pip install -q segmentation-models-pytorch\n",
    "!pip install -q --upgrade torch torchvision"
   ]
  },
  {
   "cell_type": "code",
   "execution_count": 1,
   "id": "ac77791a-34f3-450c-9e9a-eaad349cc94e",
   "metadata": {
    "executionInfo": {
     "elapsed": 22539,
     "status": "ok",
     "timestamp": 1756709492674,
     "user": {
      "displayName": "Tumelo Mkwambe",
      "userId": "17432104495927173009"
     },
     "user_tz": -120
    },
    "id": "ac77791a-34f3-450c-9e9a-eaad349cc94e"
   },
   "outputs": [],
   "source": [
    "import cv2\n",
    "import torch\n",
    "import wandb\n",
    "import itertools\n",
    "import numpy as np\n",
    "from torch import nn\n",
    "import torch.nn.functional as F\n",
    "from torch.utils.data import DataLoader, Dataset\n",
    "from sklearn.metrics import precision_score, recall_score, f1_score, accuracy_score\n",
    "from wandb import Api\n",
    "import matplotlib.pyplot as plt\n",
    "import segmentation_models_pytorch as smp"
   ]
  },
  {
   "cell_type": "code",
   "execution_count": 6,
   "id": "3DCyJBlt4yGO",
   "metadata": {
    "colab": {
     "base_uri": "https://localhost:8080/",
     "height": 225
    },
    "executionInfo": {
     "elapsed": 10044,
     "status": "ok",
     "timestamp": 1756709502727,
     "user": {
      "displayName": "Tumelo Mkwambe",
      "userId": "17432104495927173009"
     },
     "user_tz": -120
    },
    "id": "3DCyJBlt4yGO",
    "outputId": "3e185e72-b089-418b-dc57-7a87668cdfd8"
   },
   "outputs": [
    {
     "name": "stderr",
     "output_type": "stream",
     "text": [
      "/usr/local/lib/python3.12/dist-packages/notebook/notebookapp.py:191: SyntaxWarning: invalid escape sequence '\\/'\n",
      "  | |_| | '_ \\/ _` / _` |  _/ -_)\n"
     ]
    },
    {
     "data": {
      "application/javascript": [
       "\n",
       "        window._wandbApiKey = new Promise((resolve, reject) => {\n",
       "            function loadScript(url) {\n",
       "            return new Promise(function(resolve, reject) {\n",
       "                let newScript = document.createElement(\"script\");\n",
       "                newScript.onerror = reject;\n",
       "                newScript.onload = resolve;\n",
       "                document.body.appendChild(newScript);\n",
       "                newScript.src = url;\n",
       "            });\n",
       "            }\n",
       "            loadScript(\"https://cdn.jsdelivr.net/npm/postmate/build/postmate.min.js\").then(() => {\n",
       "            const iframe = document.createElement('iframe')\n",
       "            iframe.style.cssText = \"width:0;height:0;border:none\"\n",
       "            document.body.appendChild(iframe)\n",
       "            const handshake = new Postmate({\n",
       "                container: iframe,\n",
       "                url: 'https://wandb.ai/authorize'\n",
       "            });\n",
       "            const timeout = setTimeout(() => reject(\"Couldn't auto authenticate\"), 5000)\n",
       "            handshake.then(function(child) {\n",
       "                child.on('authorize', data => {\n",
       "                    clearTimeout(timeout)\n",
       "                    resolve(data)\n",
       "                });\n",
       "            });\n",
       "            })\n",
       "        });\n",
       "    "
      ],
      "text/plain": [
       "<IPython.core.display.Javascript object>"
      ]
     },
     "metadata": {},
     "output_type": "display_data"
    },
    {
     "name": "stderr",
     "output_type": "stream",
     "text": [
      "\u001b[34m\u001b[1mwandb\u001b[0m: Logging into wandb.ai. (Learn how to deploy a W&B server locally: https://wandb.me/wandb-server)\n",
      "\u001b[34m\u001b[1mwandb\u001b[0m: You can find your API key in your browser here: https://wandb.ai/authorize\n",
      "wandb: Paste an API key from your profile and hit enter:"
     ]
    },
    {
     "name": "stdout",
     "output_type": "stream",
     "text": [
      " ··········\n"
     ]
    },
    {
     "name": "stderr",
     "output_type": "stream",
     "text": [
      "\u001b[34m\u001b[1mwandb\u001b[0m: \u001b[33mWARNING\u001b[0m If you're specifying your api key in code, ensure this code is not shared publicly.\n",
      "\u001b[34m\u001b[1mwandb\u001b[0m: \u001b[33mWARNING\u001b[0m Consider setting the WANDB_API_KEY environment variable, or running `wandb login` from the command line.\n",
      "\u001b[34m\u001b[1mwandb\u001b[0m: No netrc file found, creating one.\n",
      "\u001b[34m\u001b[1mwandb\u001b[0m: Appending key for api.wandb.ai to your netrc file: /root/.netrc\n",
      "\u001b[34m\u001b[1mwandb\u001b[0m: Currently logged in as: \u001b[33mmkwambetumelo\u001b[0m to \u001b[32mhttps://api.wandb.ai\u001b[0m. Use \u001b[1m`wandb login --relogin`\u001b[0m to force relogin\n"
     ]
    },
    {
     "data": {
      "text/plain": [
       "True"
      ]
     },
     "execution_count": 6,
     "metadata": {},
     "output_type": "execute_result"
    }
   ],
   "source": [
    "wandb.login() # use your own key"
   ]
  },
  {
   "cell_type": "code",
   "execution_count": 7,
   "id": "4ea9c809-9ee5-42bc-b7c6-b7149a3d977d",
   "metadata": {
    "executionInfo": {
     "elapsed": 53,
     "status": "ok",
     "timestamp": 1756709505874,
     "user": {
      "displayName": "Tumelo Mkwambe",
      "userId": "17432104495927173009"
     },
     "user_tz": -120
    },
    "id": "4ea9c809-9ee5-42bc-b7c6-b7149a3d977d"
   },
   "outputs": [],
   "source": [
    "device = torch.device(\"cuda\" if torch.cuda.is_available() else \"cpu\")"
   ]
  },
  {
   "cell_type": "code",
   "execution_count": 8,
   "id": "pHgTd0acC9Jk",
   "metadata": {
    "colab": {
     "base_uri": "https://localhost:8080/"
    },
    "executionInfo": {
     "elapsed": 9,
     "status": "ok",
     "timestamp": 1756709509834,
     "user": {
      "displayName": "Tumelo Mkwambe",
      "userId": "17432104495927173009"
     },
     "user_tz": -120
    },
    "id": "pHgTd0acC9Jk",
    "outputId": "d278af1c-ea06-4b52-de79-faeda6583e41"
   },
   "outputs": [
    {
     "data": {
      "text/plain": [
       "device(type='cuda')"
      ]
     },
     "execution_count": 8,
     "metadata": {},
     "output_type": "execute_result"
    }
   ],
   "source": [
    "device"
   ]
  },
  {
   "cell_type": "code",
   "execution_count": 2,
   "id": "7d0effb5-9ed9-42db-8bb7-066789bbcb50",
   "metadata": {
    "executionInfo": {
     "elapsed": 2,
     "status": "ok",
     "timestamp": 1756709512391,
     "user": {
      "displayName": "Tumelo Mkwambe",
      "userId": "17432104495927173009"
     },
     "user_tz": -120
    },
    "id": "7d0effb5-9ed9-42db-8bb7-066789bbcb50"
   },
   "outputs": [],
   "source": [
    "class Encoder(nn.Module):\n",
    "    def __init__(self, input_channels, output_channels):\n",
    "        super().__init__()\n",
    "        self.block = nn.Sequential(\n",
    "            nn.Conv2d(input_channels, output_channels, kernel_size = 3, padding = 1),\n",
    "            nn.ReLU(inplace = True),\n",
    "            nn.Conv2d(output_channels, output_channels, kernel_size = 3, padding = 1),\n",
    "            nn.ReLU(inplace = True)\n",
    "        )\n",
    "\n",
    "    def forward(self, feature_bank):\n",
    "        feature_bank = self.block(feature_bank)\n",
    "        return feature_bank"
   ]
  },
  {
   "cell_type": "code",
   "execution_count": 3,
   "id": "e3103f48-6533-40b1-99ed-b12294e0e941",
   "metadata": {
    "executionInfo": {
     "elapsed": 2,
     "status": "ok",
     "timestamp": 1756709512799,
     "user": {
      "displayName": "Tumelo Mkwambe",
      "userId": "17432104495927173009"
     },
     "user_tz": -120
    },
    "id": "e3103f48-6533-40b1-99ed-b12294e0e941"
   },
   "outputs": [],
   "source": [
    "class Decoder(nn.Module):\n",
    "    def __init__(self, input_channels, output_channels):\n",
    "        super().__init__()\n",
    "        self.block = nn.Sequential(\n",
    "            nn.Conv2d(input_channels, output_channels, kernel_size = 3, padding = 1),\n",
    "            nn.ReLU(inplace = True),\n",
    "            nn.Conv2d(output_channels, output_channels, kernel_size = 3, padding = 1),\n",
    "            nn.ReLU(inplace = True)\n",
    "        )\n",
    "\n",
    "    def forward(self, decoder_feature_bank, encoder_feature_bank):\n",
    "        '''\n",
    "        if decoder_feature_bank.shape[2:] != encoder_feature_bank.shape[2:]:\n",
    "            decoder_feature_bank = F.interpolate(\n",
    "                decoder_feature_bank,\n",
    "                size=encoder_feature_bank.shape[2:],\n",
    "                mode='bilinear',\n",
    "                align_corners=False\n",
    "            )\n",
    "        '''\n",
    "\n",
    "        feature_bank = torch.cat([decoder_feature_bank, encoder_feature_bank], dim = 1)\n",
    "        feature_bank = self.block(feature_bank)\n",
    "        return feature_bank"
   ]
  },
  {
   "cell_type": "code",
   "execution_count": 4,
   "id": "4f600940-0f72-4fa9-b4b0-c6c98d2331e3",
   "metadata": {},
   "outputs": [],
   "source": [
    "import time"
   ]
  },
  {
   "cell_type": "code",
   "execution_count": 5,
   "id": "9d111f90-051c-4a56-9421-942721ff50ea",
   "metadata": {
    "executionInfo": {
     "elapsed": 8,
     "status": "ok",
     "timestamp": 1756709513288,
     "user": {
      "displayName": "Tumelo Mkwambe",
      "userId": "17432104495927173009"
     },
     "user_tz": -120
    },
    "id": "9d111f90-051c-4a56-9421-942721ff50ea"
   },
   "outputs": [],
   "source": [
    "class U_Net(nn.Module):\n",
    "    def __init__(self):\n",
    "        super().__init__()\n",
    "        channels = [3, 64, 128, 256, 512, 1024]\n",
    "        self.encoder = nn.ModuleList([\n",
    "            Encoder(channels[i], channels[i + 1]) for i in range(len(channels) - 1)\n",
    "        ])\n",
    "        channels.reverse()\n",
    "        self.decoder = nn.ModuleList([\n",
    "            Decoder(channels[i], channels[i + 1]) for i in range(len(channels) - 2)\n",
    "        ])\n",
    "\n",
    "        self.max_pool = nn.MaxPool2d(kernel_size = 2, stride = 2)\n",
    "        self.convUps = nn.ModuleList([\n",
    "            nn.ConvTranspose2d(channels[i], channels[i + 1], kernel_size = 2, stride = 2) for i in range(len(channels) - 2)\n",
    "        ])\n",
    "\n",
    "        self.final_conv = nn.Conv2d(64, 2, kernel_size = 3, padding = 1)\n",
    "\n",
    "\n",
    "    def forward(self, img):\n",
    "\n",
    "        encoder_feature_banks = []\n",
    "        feature_bank = img\n",
    "        t = time.time()\n",
    "        for idx, block in enumerate(self.encoder):\n",
    "            feature_bank = block(feature_bank)\n",
    "\n",
    "            if idx < len(self.encoder) - 1:\n",
    "                encoder_feature_banks.append(feature_bank)\n",
    "                feature_bank = self.max_pool(feature_bank)\n",
    "        print(f'Encoder Duration: {time.time() - t}')\n",
    "        encoder_feature_banks.reverse()\n",
    "\n",
    "        t = time.time()\n",
    "        for idx, block in enumerate(self.decoder):\n",
    "            feature_bank = self.convUps[idx](feature_bank)\n",
    "            feature_bank = block(feature_bank, encoder_feature_banks[idx])\n",
    "        print(f'Decoder Duration: {time.time() - t}')\n",
    "        output = self.final_conv(feature_bank)\n",
    "\n",
    "        return output"
   ]
  },
  {
   "cell_type": "code",
   "execution_count": 12,
   "id": "0e911df7-e37c-4a53-8d5b-973fae2c00ef",
   "metadata": {
    "executionInfo": {
     "elapsed": 10,
     "status": "ok",
     "timestamp": 1756709514149,
     "user": {
      "displayName": "Tumelo Mkwambe",
      "userId": "17432104495927173009"
     },
     "user_tz": -120
    },
    "id": "0e911df7-e37c-4a53-8d5b-973fae2c00ef"
   },
   "outputs": [],
   "source": [
    "class ImageDataset(Dataset):\n",
    "    def __init__(self, data):\n",
    "        self.data = data\n",
    "\n",
    "    def __len__(self):\n",
    "        return len(self.data)\n",
    "\n",
    "    def __getitem__(self, idx):\n",
    "        image, mask = self.data[idx]\n",
    "        return image, mask"
   ]
  },
  {
   "cell_type": "code",
   "execution_count": 6,
   "id": "241705cb-5baa-4c51-be8e-e169ba7ef6bc",
   "metadata": {
    "executionInfo": {
     "elapsed": 16502,
     "status": "ok",
     "timestamp": 1756709531066,
     "user": {
      "displayName": "Tumelo Mkwambe",
      "userId": "17432104495927173009"
     },
     "user_tz": -120
    },
    "id": "241705cb-5baa-4c51-be8e-e169ba7ef6bc"
   },
   "outputs": [],
   "source": [
    "def retrieve_data(type_, img_nums):\n",
    "    data = []\n",
    "\n",
    "    for img_num in img_nums:\n",
    "        img_label = cv2.imread(f'./images-1024x768/{type_}/image-{img_num}.png')\n",
    "        img_target = cv2.imread(f'./masks-1024x768/{type_}/mask-{img_num}.png', cv2.IMREAD_GRAYSCALE)\n",
    "        foreground = (img_target > 0).astype(np.float32)\n",
    "        background = 1.0 - foreground\n",
    "        img_target = np.stack([background, foreground], axis = 0)\n",
    "        data.append([img_label, img_target])\n",
    "\n",
    "    return data\n",
    "\n",
    "train_data = retrieve_data('train', [2, 7, 10, 12, 21, 24, 27, 28, 30, 43])\n",
    "val_data = retrieve_data('val', [1, 11, 22, 32])\n",
    "test_data = retrieve_data('test', [4, 16, 29, 36])"
   ]
  },
  {
   "cell_type": "code",
   "execution_count": 7,
   "id": "d9afa454-27c7-43b8-af92-23318d961641",
   "metadata": {},
   "outputs": [
    {
     "name": "stderr",
     "output_type": "stream",
     "text": [
      "/tmp/ipykernel_51218/4188508711.py:3: UserWarning: Creating a tensor from a list of numpy.ndarrays is extremely slow. Please consider converting the list to a single numpy.ndarray with numpy.array() before converting to a tensor. (Triggered internally at /pytorch/torch/csrc/utils/tensor_new.cpp:253.)\n",
      "  img = torch.tensor([image], dtype = torch.float32) ; img.shape\n"
     ]
    },
    {
     "data": {
      "text/plain": [
       "torch.Size([1, 3, 768, 1024])"
      ]
     },
     "execution_count": 7,
     "metadata": {},
     "output_type": "execute_result"
    }
   ],
   "source": [
    "u = U_Net()\n",
    "image = np.transpose(train_data[0][0], (2, 0, 1))\n",
    "img = torch.tensor([image], dtype = torch.float32) ; img.shape"
   ]
  },
  {
   "cell_type": "code",
   "execution_count": null,
   "id": "4baa48d9-9cb9-472b-bf51-efd1107b0d65",
   "metadata": {},
   "outputs": [
    {
     "name": "stdout",
     "output_type": "stream",
     "text": [
      "Encoder Duration: 3.705836534500122\n"
     ]
    }
   ],
   "source": [
    "u(img)"
   ]
  },
  {
   "cell_type": "code",
   "execution_count": 14,
   "id": "6c4c0bc0-d25c-49d5-8182-b6885854e8f0",
   "metadata": {
    "executionInfo": {
     "elapsed": 150,
     "status": "ok",
     "timestamp": 1756709531214,
     "user": {
      "displayName": "Tumelo Mkwambe",
      "userId": "17432104495927173009"
     },
     "user_tz": -120
    },
    "id": "6c4c0bc0-d25c-49d5-8182-b6885854e8f0"
   },
   "outputs": [],
   "source": [
    "def preprocess_img(img):\n",
    "    image_tensor = torch.tensor(img, dtype = torch.float32)\n",
    "    image_tensor = image_tensor.permute(2, 0, 1)\n",
    "    return image_tensor / 255.0\n",
    "\n",
    "def preprocess_mask(img):\n",
    "    image_tensor = torch.tensor(img, dtype = torch.float32)\n",
    "    return image_tensor\n",
    "\n",
    "train_data = [[preprocess_img(entry[0]), preprocess_mask(entry[1])] for entry in train_data]\n",
    "val_data = [[preprocess_img(entry[0]), preprocess_mask(entry[1])] for entry in val_data]\n",
    "test_data = [[preprocess_img(entry[0]), preprocess_mask(entry[1])] for entry in test_data]"
   ]
  },
  {
   "cell_type": "code",
   "execution_count": 15,
   "id": "ig02S22kO98n",
   "metadata": {
    "executionInfo": {
     "elapsed": 6,
     "status": "ok",
     "timestamp": 1756709531221,
     "user": {
      "displayName": "Tumelo Mkwambe",
      "userId": "17432104495927173009"
     },
     "user_tz": -120
    },
    "id": "ig02S22kO98n"
   },
   "outputs": [],
   "source": [
    "def metrics(true_masks, predictions):\n",
    "\n",
    "    predictions = np.concatenate(predictions).flatten()\n",
    "    true_masks = np.concatenate(true_masks).flatten()\n",
    "\n",
    "    accuracy = accuracy_score(true_masks, predictions)\n",
    "    precision = precision_score(true_masks, predictions, zero_division = 0, average = 'macro')\n",
    "    recall = recall_score(true_masks, predictions, zero_division = 0, average = 'macro')\n",
    "    f1 = f1_score(true_masks, predictions, zero_division = 0, average = 'macro')\n",
    "\n",
    "    iou = []\n",
    "    num_classes = 2\n",
    "    for i in range(num_classes):\n",
    "        intersection = np.sum((true_masks == i) & (predictions == i))\n",
    "        union = np.sum((true_masks == i) | (predictions == i))\n",
    "        iou.append(intersection / union if union != 0 else 0)\n",
    "\n",
    "    return accuracy, precision, recall, f1, np.mean(iou)"
   ]
  },
  {
   "cell_type": "code",
   "execution_count": 16,
   "id": "URCGjHnrPAOv",
   "metadata": {
    "executionInfo": {
     "elapsed": 9,
     "status": "ok",
     "timestamp": 1756709531233,
     "user": {
      "displayName": "Tumelo Mkwambe",
      "userId": "17432104495927173009"
     },
     "user_tz": -120
    },
    "id": "URCGjHnrPAOv"
   },
   "outputs": [],
   "source": [
    "def nontraining_loop(type_, model, data, batch_size = 1, device=\"cuda\"):\n",
    "\n",
    "    dataset = ImageDataset(data)\n",
    "    dataloader = DataLoader(dataset, batch_size, shuffle=False)\n",
    "\n",
    "    loss_function = nn.CrossEntropyLoss()\n",
    "    total_loss = 0.0\n",
    "\n",
    "    predictions = []\n",
    "    true_masks = []\n",
    "\n",
    "    model.eval()\n",
    "    with torch.no_grad():\n",
    "        for image, mask in dataloader:\n",
    "            image = image.to(device)\n",
    "            mask = mask.to(device)\n",
    "\n",
    "            logits = model(image)\n",
    "            loss = loss_function(logits, torch.argmax(mask, dim = 1))\n",
    "            total_loss += loss.item()\n",
    "\n",
    "            prediction = torch.argmax(logits, dim=1)\n",
    "            true_mask = torch.argmax(mask, dim=1)\n",
    "\n",
    "            predictions.append(prediction.cpu().numpy())\n",
    "            true_masks.append(true_mask.cpu().numpy())\n",
    "\n",
    "    avg_loss = total_loss / len(dataloader)\n",
    "    accuracy, precision, recall, f1, iou = metrics(true_masks, predictions)\n",
    "\n",
    "    wandb.log({\n",
    "          f\"{type_} Loss\": avg_loss,\n",
    "          f\"{type_} IoU\": iou\n",
    "    })\n",
    "\n",
    "    print(f\"{type_} | Loss: {avg_loss:.4f} | Accuracy: {accuracy:.4f} | Precision: {precision} | Recall: {recall} | F1 Score: {f1} | IoU: {iou}  \\n\")\n",
    "\n",
    "    return avg_loss, accuracy, precision, f1, iou\n"
   ]
  },
  {
   "cell_type": "code",
   "execution_count": 17,
   "id": "fcebdc78-b6d8-4e03-8d76-828f26493be5",
   "metadata": {
    "executionInfo": {
     "elapsed": 6,
     "status": "ok",
     "timestamp": 1756709531241,
     "user": {
      "displayName": "Tumelo Mkwambe",
      "userId": "17432104495927173009"
     },
     "user_tz": -120
    },
    "id": "fcebdc78-b6d8-4e03-8d76-828f26493be5"
   },
   "outputs": [],
   "source": [
    "def training_loop(model, train_data, val_data, num_epochs = 10, batch_size = 1, learning_rate = 1e-3, device = \"cuda\"):\n",
    "\n",
    "    train_dataset = ImageDataset(train_data)\n",
    "    train_dataloader = DataLoader(train_dataset, batch_size, shuffle = True)\n",
    "\n",
    "    model = model.to(device)\n",
    "\n",
    "    loss_function = nn.CrossEntropyLoss()\n",
    "    optimizer = torch.optim.Adam(model.parameters(), lr = learning_rate)\n",
    "\n",
    "    model.train()\n",
    "    for epoch in range(num_epochs):\n",
    "        predictions = []\n",
    "        true_masks = []\n",
    "        total_loss = 0.0\n",
    "        for image, mask in train_dataloader:\n",
    "            image = image.to(device)\n",
    "            mask = mask.to(device)\n",
    "            optimizer.zero_grad()\n",
    "            logits = model(image)\n",
    "            loss = loss_function(logits, torch.argmax(mask, dim = 1))\n",
    "            loss.backward()\n",
    "            optimizer.step()\n",
    "            total_loss += loss.item()\n",
    "\n",
    "            prediction = torch.argmax(logits, dim=1)\n",
    "            true_mask = torch.argmax(mask, dim=1)\n",
    "\n",
    "            predictions.append(prediction.cpu().numpy())\n",
    "            true_masks.append(true_mask.cpu().numpy())\n",
    "\n",
    "        train_loss = total_loss / len(train_dataloader)\n",
    "        accuracy, precision, recall, f1, iou = metrics(true_masks, predictions)\n",
    "\n",
    "        wandb.log({\n",
    "              f\"Training Loss\": train_loss,\n",
    "              f\"Training IoU\": iou\n",
    "        })\n",
    "\n",
    "\n",
    "        print(f\"Epoch: {epoch} | Training | Loss: {train_loss:.4f} | Accuracy: {accuracy:.4f} | Precision: {precision} | Recall: {recall} | F1 Score: {f1} | IoU: {iou}\")\n",
    "        val_loss = nontraining_loop(\"Validation\", model, val_data, 1, device)\n",
    "\n",
    "    return model, iou"
   ]
  },
  {
   "cell_type": "code",
   "execution_count": 18,
   "id": "83126115-86ad-48d8-b09a-8e5eb25ebc9e",
   "metadata": {
    "executionInfo": {
     "elapsed": 51,
     "status": "ok",
     "timestamp": 1756709531300,
     "user": {
      "displayName": "Tumelo Mkwambe",
      "userId": "17432104495927173009"
     },
     "user_tz": -120
    },
    "id": "83126115-86ad-48d8-b09a-8e5eb25ebc9e"
   },
   "outputs": [],
   "source": [
    "def find_best_hyperparameters():\n",
    "\n",
    "    num_epochs = [10]\n",
    "    batch_size = [1, 2, 3, 4]\n",
    "    learning_rate = [1e-2, 1e-3, 1e-4]\n",
    "\n",
    "    best_model = None\n",
    "    best_iou = 0\n",
    "\n",
    "    for idx, combination in enumerate(list(itertools.product(num_epochs, batch_size, learning_rate))):\n",
    "\n",
    "        wandb.init(entity = \"computer-vision-wits\", project = \"computer-vision-wits\", name = f\"run_{idx}\")\n",
    "\n",
    "        config = wandb.config\n",
    "        config.epochs = combination[0]\n",
    "        config.batch_size = combination[1]\n",
    "        config.learning_rate = combination[2]\n",
    "\n",
    "        model, iou = training_loop(\n",
    "            train_data,\n",
    "            val_data,\n",
    "            num_epochs = combination[0],\n",
    "            batch_size = combination[1],\n",
    "            learning_rate = combination[2],\n",
    "            device = \"cuda\"\n",
    "        )\n",
    "\n",
    "        if iou > best_iou:\n",
    "          best_iou = iou\n",
    "          best_model = model\n",
    "\n",
    "        wandb.finish()\n",
    "\n",
    "    return model"
   ]
  },
  {
   "cell_type": "code",
   "execution_count": 20,
   "id": "DEKTf334riGz",
   "metadata": {
    "colab": {
     "base_uri": "https://localhost:8080/",
     "height": 1000
    },
    "executionInfo": {
     "elapsed": 103881,
     "status": "ok",
     "timestamp": 1756709665599,
     "user": {
      "displayName": "Tumelo Mkwambe",
      "userId": "17432104495927173009"
     },
     "user_tz": -120
    },
    "id": "DEKTf334riGz",
    "outputId": "e74658e3-f5c4-4384-b0b4-a034f69ece52"
   },
   "outputs": [
    {
     "data": {
      "text/html": [
       "Tracking run with wandb version 0.21.1"
      ],
      "text/plain": [
       "<IPython.core.display.HTML object>"
      ]
     },
     "metadata": {},
     "output_type": "display_data"
    },
    {
     "data": {
      "text/html": [
       "Run data is saved locally in <code>/content/drive/MyDrive/U-Net/wandb/run-20250901_065241-wzf1782v</code>"
      ],
      "text/plain": [
       "<IPython.core.display.HTML object>"
      ]
     },
     "metadata": {},
     "output_type": "display_data"
    },
    {
     "data": {
      "text/html": [
       "Syncing run <strong><a href='https://wandb.ai/computer-vision-wits/computer-vision-wits/runs/wzf1782v' target=\"_blank\">u-run</a></strong> to <a href='https://wandb.ai/computer-vision-wits/computer-vision-wits' target=\"_blank\">Weights & Biases</a> (<a href='https://wandb.me/developer-guide' target=\"_blank\">docs</a>)<br>"
      ],
      "text/plain": [
       "<IPython.core.display.HTML object>"
      ]
     },
     "metadata": {},
     "output_type": "display_data"
    },
    {
     "data": {
      "text/html": [
       " View project at <a href='https://wandb.ai/computer-vision-wits/computer-vision-wits' target=\"_blank\">https://wandb.ai/computer-vision-wits/computer-vision-wits</a>"
      ],
      "text/plain": [
       "<IPython.core.display.HTML object>"
      ]
     },
     "metadata": {},
     "output_type": "display_data"
    },
    {
     "data": {
      "text/html": [
       " View run at <a href='https://wandb.ai/computer-vision-wits/computer-vision-wits/runs/wzf1782v' target=\"_blank\">https://wandb.ai/computer-vision-wits/computer-vision-wits/runs/wzf1782v</a>"
      ],
      "text/plain": [
       "<IPython.core.display.HTML object>"
      ]
     },
     "metadata": {},
     "output_type": "display_data"
    },
    {
     "name": "stdout",
     "output_type": "stream",
     "text": [
      "Epoch: 0 | Training | Loss: 0.8504 | Accuracy: 0.6489 | Precision: 0.49627341433049577 | Recall: 0.4968010342977962 | F1 Score: 0.49492576539243055 | IoU: 0.37609335066850275\n",
      "Validation | Loss: 0.4861 | Accuracy: 0.7605 | Precision: 0.38025252024332684 | Recall: 0.5 | F1 Score: 0.43198117755824683 | IoU: 0.38025252024332684  \n",
      "\n",
      "Epoch: 1 | Training | Loss: 0.5764 | Accuracy: 0.7522 | Precision: 0.3761050542195638 | Recall: 0.5 | F1 Score: 0.4292921863743829 | IoU: 0.3761050542195638\n",
      "Validation | Loss: 0.5677 | Accuracy: 0.7605 | Precision: 0.38025252024332684 | Recall: 0.5 | F1 Score: 0.43198117755824683 | IoU: 0.38025252024332684  \n",
      "\n",
      "Epoch: 2 | Training | Loss: 0.7693 | Accuracy: 0.7522 | Precision: 0.3761050542195638 | Recall: 0.5 | F1 Score: 0.4292921863743829 | IoU: 0.3761050542195638\n",
      "Validation | Loss: 0.5820 | Accuracy: 0.7605 | Precision: 0.38025252024332684 | Recall: 0.5 | F1 Score: 0.43198117755824683 | IoU: 0.38025252024332684  \n",
      "\n",
      "Epoch: 3 | Training | Loss: 0.6253 | Accuracy: 0.7536 | Precision: 0.8766156963564872 | Recall: 0.5027359279190886 | F1 Score: 0.43506671003498876 | IoU: 0.3793516242755757\n",
      "Validation | Loss: 0.6044 | Accuracy: 0.7713 | Precision: 0.8843975542184974 | Recall: 0.5225123641798494 | F1 Score: 0.47772823847711154 | IoU: 0.40690991839834684  \n",
      "\n",
      "Epoch: 4 | Training | Loss: 0.6141 | Accuracy: 0.7641 | Precision: 0.8746942152213381 | Recall: 0.5242508391071958 | F1 Score: 0.47863001144642864 | IoU: 0.4049583868403165\n",
      "Validation | Loss: 0.5399 | Accuracy: 0.8080 | Precision: 0.8991928513312647 | Recall: 0.5990554642640028 | F1 Score: 0.6092985003517316 | IoU: 0.4982483155952675  \n",
      "\n",
      "Epoch: 5 | Training | Loss: 0.5531 | Accuracy: 0.7652 | Precision: 0.8721214135678204 | Recall: 0.5264599019190158 | F1 Score: 0.4829727759654681 | IoU: 0.40760528858780626\n",
      "Validation | Loss: 0.4078 | Accuracy: 0.7848 | Precision: 0.8897317751503967 | Recall: 0.5507787508660899 | F1 Score: 0.5302273461090199 | IoU: 0.4405105260164866  \n",
      "\n",
      "Epoch: 6 | Training | Loss: 0.4869 | Accuracy: 0.7896 | Precision: 0.8797106184939691 | Recall: 0.5765797549700418 | F1 Score: 0.5718682378336478 | IoU: 0.4674937946825317\n",
      "Validation | Loss: 0.3267 | Accuracy: 0.8572 | Precision: 0.9209045060349142 | Recall: 0.701812511795917 | F1 Score: 0.7446342833186437 | IoU: 0.6227515081770829  \n",
      "\n",
      "Epoch: 7 | Training | Loss: 0.4773 | Accuracy: 0.8295 | Precision: 0.8742156377013232 | Recall: 0.6646641824180414 | F1 Score: 0.6964525085782411 | IoU: 0.5716303367756679\n",
      "Validation | Loss: 0.2722 | Accuracy: 0.9499 | Precision: 0.967131793496613 | Recall: 0.8966549506706434 | F1 Score: 0.9258157605974173 | IoU: 0.8647603095473335  \n",
      "\n",
      "Epoch: 8 | Training | Loss: 0.4302 | Accuracy: 0.8451 | Precision: 0.8906753320385905 | Recall: 0.6948112787709577 | F1 Score: 0.7327494221885185 | IoU: 0.6083025952090934\n",
      "Validation | Loss: 0.2280 | Accuracy: 0.9606 | Precision: 0.9718801742771814 | Recall: 0.9203021609941988 | F1 Score: 0.9428499947476554 | IoU: 0.8935946086384563  \n",
      "\n",
      "Epoch: 9 | Training | Loss: 0.3623 | Accuracy: 0.8984 | Precision: 0.9135501363126772 | Recall: 0.8094394448693674 | F1 Score: 0.8456412519848694 | IoU: 0.7432188777522231\n",
      "Validation | Loss: 0.1628 | Accuracy: 0.9696 | Precision: 0.9759501983232455 | Recall: 0.9404267884839232 | F1 Score: 0.9566541512220929 | IoU: 0.9178964388017976  \n",
      "\n"
     ]
    },
    {
     "data": {
      "text/html": [],
      "text/plain": [
       "<IPython.core.display.HTML object>"
      ]
     },
     "metadata": {},
     "output_type": "display_data"
    },
    {
     "data": {
      "text/html": [
       "<br>    <style><br>        .wandb-row {<br>            display: flex;<br>            flex-direction: row;<br>            flex-wrap: wrap;<br>            justify-content: flex-start;<br>            width: 100%;<br>        }<br>        .wandb-col {<br>            display: flex;<br>            flex-direction: column;<br>            flex-basis: 100%;<br>            flex: 1;<br>            padding: 10px;<br>        }<br>    </style><br><div class=\"wandb-row\"><div class=\"wandb-col\"><h3>Run history:</h3><br/><table class=\"wandb\"><tr><td>Training IoU</td><td>▁▁▁▁▂▂▃▅▅█</td></tr><tr><td>Training Loss</td><td>█▄▇▅▅▄▃▃▂▁</td></tr><tr><td>Validation IoU</td><td>▁▁▁▁▃▂▄▇██</td></tr><tr><td>Validation Loss</td><td>▆▇██▇▅▄▃▂▁</td></tr></table><br/></div><div class=\"wandb-col\"><h3>Run summary:</h3><br/><table class=\"wandb\"><tr><td>Training IoU</td><td>0.74322</td></tr><tr><td>Training Loss</td><td>0.36232</td></tr><tr><td>Validation IoU</td><td>0.9179</td></tr><tr><td>Validation Loss</td><td>0.16283</td></tr></table><br/></div></div>"
      ],
      "text/plain": [
       "<IPython.core.display.HTML object>"
      ]
     },
     "metadata": {},
     "output_type": "display_data"
    },
    {
     "data": {
      "text/html": [
       " View run <strong style=\"color:#cdcd00\">u-run</strong> at: <a href='https://wandb.ai/computer-vision-wits/computer-vision-wits/runs/wzf1782v' target=\"_blank\">https://wandb.ai/computer-vision-wits/computer-vision-wits/runs/wzf1782v</a><br> View project at: <a href='https://wandb.ai/computer-vision-wits/computer-vision-wits' target=\"_blank\">https://wandb.ai/computer-vision-wits/computer-vision-wits</a><br>Synced 5 W&B file(s), 0 media file(s), 0 artifact file(s) and 0 other file(s)"
      ],
      "text/plain": [
       "<IPython.core.display.HTML object>"
      ]
     },
     "metadata": {},
     "output_type": "display_data"
    },
    {
     "data": {
      "text/html": [
       "Find logs at: <code>./wandb/run-20250901_065241-wzf1782v/logs</code>"
      ],
      "text/plain": [
       "<IPython.core.display.HTML object>"
      ]
     },
     "metadata": {},
     "output_type": "display_data"
    }
   ],
   "source": [
    "# best hyperparameters: {learning rate: }, {batch_size: }\n",
    "\n",
    "wandb.init(entity = \"computer-vision-wits\", project = \"computer-vision-wits\", name = f\"u-run\")\n",
    "\n",
    "model = U_Net()\n",
    "training_loop(model, train_data, val_data, num_epochs = 10, batch_size = 2, learning_rate = 1e-3, device = device)\n",
    "torch.cuda.empty_cache()\n",
    "\n",
    "wandb.finish()"
   ]
  },
  {
   "cell_type": "code",
   "execution_count": 21,
   "id": "D4hB1AGLrw7X",
   "metadata": {
    "executionInfo": {
     "elapsed": 4,
     "status": "ok",
     "timestamp": 1756709671952,
     "user": {
      "displayName": "Tumelo Mkwambe",
      "userId": "17432104495927173009"
     },
     "user_tz": -120
    },
    "id": "D4hB1AGLrw7X"
   },
   "outputs": [],
   "source": [
    "def display_plots(metric):\n",
    "    train_df = history.dropna(subset=[f\"Training {metric}\"])\n",
    "    val_df   = history.dropna(subset=[f\"Validation {metric}\"])\n",
    "\n",
    "    plt.figure(figsize=(8,5))\n",
    "    plt.plot(train_df[\"_step\"], train_df[f\"Training {metric}\"], label=f\"Training {metric}\")\n",
    "    plt.plot(val_df[\"_step\"], val_df[f\"Validation {metric}\"], label=f\"Validation {metric}\")\n",
    "    plt.legend()\n",
    "    plt.show()"
   ]
  },
  {
   "cell_type": "code",
   "execution_count": 23,
   "id": "pVAof_ByBCUJ",
   "metadata": {
    "colab": {
     "base_uri": "https://localhost:8080/",
     "height": 873
    },
    "executionInfo": {
     "elapsed": 1185,
     "status": "ok",
     "timestamp": 1756709770700,
     "user": {
      "displayName": "Tumelo Mkwambe",
      "userId": "17432104495927173009"
     },
     "user_tz": -120
    },
    "id": "pVAof_ByBCUJ",
    "outputId": "466b389c-6eab-4d3d-c917-c770e5607985"
   },
   "outputs": [
    {
     "data": {
      "image/png": "[encoded data removed]",
      "text/plain": [
       "<Figure size 800x500 with 1 Axes>"
      ]
     },
     "metadata": {},
     "output_type": "display_data"
    },
    {
     "data": {
      "image/png": "[encoded data removed]",
      "text/plain": [
       "<Figure size 800x500 with 1 Axes>"
      ]
     },
     "metadata": {},
     "output_type": "display_data"
    }
   ],
   "source": [
    "api = Api()\n",
    "run = api.run(\"computer-vision-wits/computer-vision-wits/cxtjnrfs\")\n",
    "history = run.history()\n",
    "\n",
    "display_plots(\"Loss\")\n",
    "display_plots(\"IoU\")"
   ]
  },
  {
   "cell_type": "code",
   "execution_count": null,
   "id": "fYNZV0d5BNLY",
   "metadata": {
    "id": "fYNZV0d5BNLY"
   },
   "outputs": [],
   "source": [
    "'''\n",
    "Based on the graphs and the provided metrics, the model is not overfitting.\n",
    "Both the training and validation curves indicate that the model is still learning and improving.\n",
    "A sign of overfitting is when the training loss continues to decrease, but the validation loss begins to increase.\n",
    "In the above graphs, both training and validation loss are decreasing, which suggests the model is still improving on unseen data.\n",
    "\n",
    "If the model were overfitting, we would implement early stoppage and halt the training process provided that the training loss decreases but the validation loss stays constant.\n",
    "'''"
   ]
  },
  {
   "cell_type": "code",
   "execution_count": 24,
   "id": "OotNsciesQAJ",
   "metadata": {
    "colab": {
     "base_uri": "https://localhost:8080/",
     "height": 503
    },
    "executionInfo": {
     "elapsed": 4232,
     "status": "ok",
     "timestamp": 1756709784618,
     "user": {
      "displayName": "Tumelo Mkwambe",
      "userId": "17432104495927173009"
     },
     "user_tz": -120
    },
    "id": "OotNsciesQAJ",
    "outputId": "8a1ddb81-ca61-40ca-9034-296cde152f37"
   },
   "outputs": [
    {
     "data": {
      "text/html": [
       "Tracking run with wandb version 0.21.1"
      ],
      "text/plain": [
       "<IPython.core.display.HTML object>"
      ]
     },
     "metadata": {},
     "output_type": "display_data"
    },
    {
     "data": {
      "text/html": [
       "Run data is saved locally in <code>/content/drive/MyDrive/U-Net/wandb/run-20250901_065620-oq66fzmt</code>"
      ],
      "text/plain": [
       "<IPython.core.display.HTML object>"
      ]
     },
     "metadata": {},
     "output_type": "display_data"
    },
    {
     "data": {
      "text/html": [
       "Syncing run <strong><a href='https://wandb.ai/computer-vision-wits/U-Net/runs/oq66fzmt' target=\"_blank\">u-net-base-testing</a></strong> to <a href='https://wandb.ai/computer-vision-wits/U-Net' target=\"_blank\">Weights & Biases</a> (<a href='https://wandb.me/developer-guide' target=\"_blank\">docs</a>)<br>"
      ],
      "text/plain": [
       "<IPython.core.display.HTML object>"
      ]
     },
     "metadata": {},
     "output_type": "display_data"
    },
    {
     "data": {
      "text/html": [
       " View project at <a href='https://wandb.ai/computer-vision-wits/U-Net' target=\"_blank\">https://wandb.ai/computer-vision-wits/U-Net</a>"
      ],
      "text/plain": [
       "<IPython.core.display.HTML object>"
      ]
     },
     "metadata": {},
     "output_type": "display_data"
    },
    {
     "data": {
      "text/html": [
       " View run at <a href='https://wandb.ai/computer-vision-wits/U-Net/runs/oq66fzmt' target=\"_blank\">https://wandb.ai/computer-vision-wits/U-Net/runs/oq66fzmt</a>"
      ],
      "text/plain": [
       "<IPython.core.display.HTML object>"
      ]
     },
     "metadata": {},
     "output_type": "display_data"
    },
    {
     "name": "stdout",
     "output_type": "stream",
     "text": [
      "Testing | Loss: 0.2155 | Accuracy: 0.9415 | Precision: 0.9483961127725646 | Recall: 0.8963798043776364 | F1 Score: 0.9185700557885682 | IoU: 0.8523601100041411  \n",
      "\n"
     ]
    },
    {
     "data": {
      "text/html": [],
      "text/plain": [
       "<IPython.core.display.HTML object>"
      ]
     },
     "metadata": {},
     "output_type": "display_data"
    },
    {
     "data": {
      "text/html": [
       "<br>    <style><br>        .wandb-row {<br>            display: flex;<br>            flex-direction: row;<br>            flex-wrap: wrap;<br>            justify-content: flex-start;<br>            width: 100%;<br>        }<br>        .wandb-col {<br>            display: flex;<br>            flex-direction: column;<br>            flex-basis: 100%;<br>            flex: 1;<br>            padding: 10px;<br>        }<br>    </style><br><div class=\"wandb-row\"><div class=\"wandb-col\"><h3>Run history:</h3><br/><table class=\"wandb\"><tr><td>Testing IoU</td><td>▁</td></tr><tr><td>Testing Loss</td><td>▁</td></tr></table><br/></div><div class=\"wandb-col\"><h3>Run summary:</h3><br/><table class=\"wandb\"><tr><td>Testing IoU</td><td>0.85236</td></tr><tr><td>Testing Loss</td><td>0.2155</td></tr></table><br/></div></div>"
      ],
      "text/plain": [
       "<IPython.core.display.HTML object>"
      ]
     },
     "metadata": {},
     "output_type": "display_data"
    },
    {
     "data": {
      "text/html": [
       " View run <strong style=\"color:#cdcd00\">u-net-base-testing</strong> at: <a href='https://wandb.ai/computer-vision-wits/U-Net/runs/oq66fzmt' target=\"_blank\">https://wandb.ai/computer-vision-wits/U-Net/runs/oq66fzmt</a><br> View project at: <a href='https://wandb.ai/computer-vision-wits/U-Net' target=\"_blank\">https://wandb.ai/computer-vision-wits/U-Net</a><br>Synced 5 W&B file(s), 0 media file(s), 0 artifact file(s) and 0 other file(s)"
      ],
      "text/plain": [
       "<IPython.core.display.HTML object>"
      ]
     },
     "metadata": {},
     "output_type": "display_data"
    },
    {
     "data": {
      "text/html": [
       "Find logs at: <code>./wandb/run-20250901_065620-oq66fzmt/logs</code>"
      ],
      "text/plain": [
       "<IPython.core.display.HTML object>"
      ]
     },
     "metadata": {},
     "output_type": "display_data"
    }
   ],
   "source": [
    "wandb.init(entity = \"computer-vision-wits\", project = \"U-Net\", name = f\"u-net-base-testing\")\n",
    "\n",
    "nontraining_loop(\n",
    "    \"Testing\",\n",
    "    model = model,\n",
    "    data = test_data,\n",
    "    batch_size = 4,\n",
    "    device = device\n",
    ")\n",
    "\n",
    "wandb.finish()"
   ]
  },
  {
   "cell_type": "code",
   "execution_count": 25,
   "id": "sDaeBua7BOf5",
   "metadata": {
    "colab": {
     "base_uri": "https://localhost:8080/",
     "height": 1000,
     "referenced_widgets": [
      "b3daadaf1b044650a9db94c0e803a31a",
      "74fd68d4951e4f93bf58f50beb87296d",
      "30a50cfe27084f5dbf40c6ca461f0417",
      "ba258fceda4445efb33dd562125e6206",
      "2cbead96baad43eaabdd924eb6a1a56b",
      "93d5c6c594ff4e89b8b81fddfac6a694",
      "ad41b7b68d3c46ccb0bcad7b546ccb7b",
      "ad3dc1d8fffa4d48ae434c99761c4bcf",
      "62eaf88089544f17bd6d8b3b80647560",
      "7c839ccf18f74c088f0e17a5a8660b68",
      "aaf0e3f392a1421c98da3d69d05cb1b8",
      "bc2a6d25b22f4ac788c377fee20c3518",
      "490ee4661f804a63b6625e44cec2fc85",
      "4aff315caad149d8a89750543473af15",
      "20ee3003b7ff428f96bf24d3c35b5bd3",
      "1b8087fd260740dba96b64dfbd036242",
      "eee8873894b847828ddc38168fde2773",
      "cd942aa208a34c81b019c0f4750666df",
      "3c0a9368f5fd4c1994afe77d789c3043",
      "0efc34ef6f8a4cb79d038f350c202303",
      "a3423aec3ad142b19cf992a263248664",
      "169ad21b8a4e4837b9724417c9c06ae5"
     ]
    },
    "executionInfo": {
     "elapsed": 48740,
     "status": "ok",
     "timestamp": 1756709845001,
     "user": {
      "displayName": "Tumelo Mkwambe",
      "userId": "17432104495927173009"
     },
     "user_tz": -120
    },
    "id": "sDaeBua7BOf5",
    "outputId": "ae692420-3895-41f8-854d-9cca48b92725"
   },
   "outputs": [
    {
     "name": "stderr",
     "output_type": "stream",
     "text": [
      "/usr/local/lib/python3.12/dist-packages/huggingface_hub/utils/_auth.py:94: UserWarning: \n",
      "The secret `HF_TOKEN` does not exist in your Colab secrets.\n",
      "To authenticate with the Hugging Face Hub, create a token in your settings tab (https://huggingface.co/settings/tokens), set it as secret in your Google Colab and restart your session.\n",
      "You will be able to reuse this secret in all of your notebooks.\n",
      "Please note that authentication is recommended but still optional to access public models or datasets.\n",
      "  warnings.warn(\n"
     ]
    },
    {
     "data": {
      "application/vnd.jupyter.widget-view+json": {
       "model_id": "b3daadaf1b044650a9db94c0e803a31a",
       "version_major": 2,
       "version_minor": 0
      },
      "text/plain": [
       "config.json:   0%|          | 0.00/106 [00:00<?, ?B/s]"
      ]
     },
     "metadata": {},
     "output_type": "display_data"
    },
    {
     "data": {
      "application/vnd.jupyter.widget-view+json": {
       "model_id": "bc2a6d25b22f4ac788c377fee20c3518",
       "version_major": 2,
       "version_minor": 0
      },
      "text/plain": [
       "model.safetensors:   0%|          | 0.00/21.4M [00:00<?, ?B/s]"
      ]
     },
     "metadata": {},
     "output_type": "display_data"
    },
    {
     "data": {
      "text/html": [
       "Tracking run with wandb version 0.21.1"
      ],
      "text/plain": [
       "<IPython.core.display.HTML object>"
      ]
     },
     "metadata": {},
     "output_type": "display_data"
    },
    {
     "data": {
      "text/html": [
       "Run data is saved locally in <code>/content/drive/MyDrive/U-Net/wandb/run-20250901_065637-hua3hjwl</code>"
      ],
      "text/plain": [
       "<IPython.core.display.HTML object>"
      ]
     },
     "metadata": {},
     "output_type": "display_data"
    },
    {
     "data": {
      "text/html": [
       "Syncing run <strong><a href='https://wandb.ai/computer-vision-wits/computer-vision-wits/runs/hua3hjwl' target=\"_blank\">eff</a></strong> to <a href='https://wandb.ai/computer-vision-wits/computer-vision-wits' target=\"_blank\">Weights & Biases</a> (<a href='https://wandb.me/developer-guide' target=\"_blank\">docs</a>)<br>"
      ],
      "text/plain": [
       "<IPython.core.display.HTML object>"
      ]
     },
     "metadata": {},
     "output_type": "display_data"
    },
    {
     "data": {
      "text/html": [
       " View project at <a href='https://wandb.ai/computer-vision-wits/computer-vision-wits' target=\"_blank\">https://wandb.ai/computer-vision-wits/computer-vision-wits</a>"
      ],
      "text/plain": [
       "<IPython.core.display.HTML object>"
      ]
     },
     "metadata": {},
     "output_type": "display_data"
    },
    {
     "data": {
      "text/html": [
       " View run at <a href='https://wandb.ai/computer-vision-wits/computer-vision-wits/runs/hua3hjwl' target=\"_blank\">https://wandb.ai/computer-vision-wits/computer-vision-wits/runs/hua3hjwl</a>"
      ],
      "text/plain": [
       "<IPython.core.display.HTML object>"
      ]
     },
     "metadata": {},
     "output_type": "display_data"
    },
    {
     "name": "stdout",
     "output_type": "stream",
     "text": [
      "Epoch: 0 | Training | Loss: 0.5801 | Accuracy: 0.7362 | Precision: 0.6741824774862925 | Recall: 0.7105580923628063 | F1 Score: 0.6831479575727921 | IoU: 0.5336500136008657\n",
      "Validation | Loss: 6.9825 | Accuracy: 0.2405 | Precision: 0.6198651070866829 | Recall: 0.5006451836735718 | F1 Score: 0.1946615943146106 | IoU: 0.12051029076025459  \n",
      "\n",
      "Epoch: 1 | Training | Loss: 2.0355 | Accuracy: 0.3472 | Precision: 0.5071925748142657 | Recall: 0.5059014181415149 | F1 Score: 0.344935630968632 | IoU: 0.20907936630562263\n",
      "Validation | Loss: 0.5167 | Accuracy: 0.7587 | Precision: 0.38012318552308644 | Recall: 0.49881019842757024 | F1 Score: 0.4313977543148275 | IoU: 0.37934794470723854  \n",
      "\n",
      "Epoch: 2 | Training | Loss: 0.5584 | Accuracy: 0.7510 | Precision: 0.3760087163732871 | Recall: 0.4992005941284217 | F1 Score: 0.42890062374393834 | IoU: 0.3755038431285622\n",
      "Validation | Loss: 0.4970 | Accuracy: 0.7595 | Precision: 0.3801363804141688 | Recall: 0.4993629673349379 | F1 Score: 0.4316683836125674 | IoU: 0.37976805369059247  \n",
      "\n",
      "Epoch: 3 | Training | Loss: 0.5069 | Accuracy: 0.7512 | Precision: 0.37598454461287584 | Recall: 0.4993540830286457 | F1 Score: 0.4289755109150622 | IoU: 0.3756191889444987\n",
      "Validation | Loss: 0.5014 | Accuracy: 0.7595 | Precision: 0.3801355794567594 | Recall: 0.4993585783303558 | F1 Score: 0.43166622734124166 | IoU: 0.37976471583048504  \n",
      "\n",
      "Epoch: 4 | Training | Loss: 0.4149 | Accuracy: 0.7513 | Precision: 0.3974393486912783 | Recall: 0.4994376168294126 | F1 Score: 0.42916012408392773 | IoU: 0.3757200885819663\n",
      "Validation | Loss: 0.2759 | Accuracy: 0.7814 | Precision: 0.8655198758351805 | Recall: 0.5450727065179874 | F1 Score: 0.5206109798728037 | IoU: 0.4338020599537524  \n",
      "\n",
      "Epoch: 5 | Training | Loss: 0.2394 | Accuracy: 0.8746 | Precision: 0.8501161353384205 | Recall: 0.7977156636741689 | F1 Score: 0.8187945241345886 | IoU: 0.7055360158171261\n",
      "Validation | Loss: 0.1549 | Accuracy: 0.9365 | Precision: 0.9262005330485412 | Recall: 0.895709794462221 | F1 Score: 0.90964919251256 | IoU: 0.838019618295829  \n",
      "\n",
      "Epoch: 6 | Training | Loss: 0.3498 | Accuracy: 0.8497 | Precision: 0.8001222861988371 | Recall: 0.8629398564121413 | F1 Score: 0.8195041481650276 | IoU: 0.7008563027231074\n",
      "Validation | Loss: 0.1903 | Accuracy: 0.9301 | Precision: 0.8882453169621003 | Recall: 0.9454558208214738 | F1 Score: 0.9109750835088571 | IoU: 0.8391404802129839  \n",
      "\n",
      "Epoch: 7 | Training | Loss: 0.4348 | Accuracy: 0.8376 | Precision: 0.8562748887297974 | Recall: 0.6905802787692029 | F1 Score: 0.7250699336702444 | IoU: 0.5991625886277467\n",
      "Validation | Loss: 0.2742 | Accuracy: 0.8881 | Precision: 0.9142002586663031 | Recall: 0.7763574277323564 | F1 Score: 0.8185944328343193 | IoU: 0.7083290337075039  \n",
      "\n",
      "Epoch: 8 | Training | Loss: 0.2184 | Accuracy: 0.9135 | Precision: 0.8859169412025546 | Recall: 0.8805819414761928 | F1 Score: 0.8832003633564522 | IoU: 0.7959303799544756\n",
      "Validation | Loss: 0.4879 | Accuracy: 0.8820 | Precision: 0.8703036210272326 | Recall: 0.7899930175815948 | F1 Score: 0.8195731694291029 | IoU: 0.7081076676665319  \n",
      "\n",
      "Epoch: 9 | Training | Loss: 0.3646 | Accuracy: 0.8522 | Precision: 0.8001119457851709 | Recall: 0.848383279386864 | F1 Score: 0.8176428963323751 | IoU: 0.699205716284798\n",
      "Validation | Loss: 0.2268 | Accuracy: 0.9364 | Precision: 0.9173553262369634 | Recall: 0.9060004884610222 | F1 Score: 0.9114888825465808 | IoU: 0.8407956080788394  \n",
      "\n"
     ]
    },
    {
     "data": {
      "text/html": [],
      "text/plain": [
       "<IPython.core.display.HTML object>"
      ]
     },
     "metadata": {},
     "output_type": "display_data"
    },
    {
     "data": {
      "text/html": [
       "<br>    <style><br>        .wandb-row {<br>            display: flex;<br>            flex-direction: row;<br>            flex-wrap: wrap;<br>            justify-content: flex-start;<br>            width: 100%;<br>        }<br>        .wandb-col {<br>            display: flex;<br>            flex-direction: column;<br>            flex-basis: 100%;<br>            flex: 1;<br>            padding: 10px;<br>        }<br>    </style><br><div class=\"wandb-row\"><div class=\"wandb-col\"><h3>Run history:</h3><br/><table class=\"wandb\"><tr><td>Training IoU</td><td>▅▁▃▃▃▇▇▆█▇</td></tr><tr><td>Training Loss</td><td>▂█▂▂▂▁▂▂▁▂</td></tr><tr><td>Validation IoU</td><td>▁▄▄▄▄██▇▇█</td></tr><tr><td>Validation Loss</td><td>█▁▁▁▁▁▁▁▁▁</td></tr></table><br/></div><div class=\"wandb-col\"><h3>Run summary:</h3><br/><table class=\"wandb\"><tr><td>Training IoU</td><td>0.69921</td></tr><tr><td>Training Loss</td><td>0.36462</td></tr><tr><td>Validation IoU</td><td>0.8408</td></tr><tr><td>Validation Loss</td><td>0.22675</td></tr></table><br/></div></div>"
      ],
      "text/plain": [
       "<IPython.core.display.HTML object>"
      ]
     },
     "metadata": {},
     "output_type": "display_data"
    },
    {
     "data": {
      "text/html": [
       " View run <strong style=\"color:#cdcd00\">eff</strong> at: <a href='https://wandb.ai/computer-vision-wits/computer-vision-wits/runs/hua3hjwl' target=\"_blank\">https://wandb.ai/computer-vision-wits/computer-vision-wits/runs/hua3hjwl</a><br> View project at: <a href='https://wandb.ai/computer-vision-wits/computer-vision-wits' target=\"_blank\">https://wandb.ai/computer-vision-wits/computer-vision-wits</a><br>Synced 5 W&B file(s), 0 media file(s), 0 artifact file(s) and 0 other file(s)"
      ],
      "text/plain": [
       "<IPython.core.display.HTML object>"
      ]
     },
     "metadata": {},
     "output_type": "display_data"
    },
    {
     "data": {
      "text/html": [
       "Find logs at: <code>./wandb/run-20250901_065637-hua3hjwl/logs</code>"
      ],
      "text/plain": [
       "<IPython.core.display.HTML object>"
      ]
     },
     "metadata": {},
     "output_type": "display_data"
    }
   ],
   "source": [
    "'''\n",
    "VARIANTS: ResNet\n",
    "'''\n",
    "\n",
    "eff_model = smp.Unet(encoder_name=\"efficientnet-b0\", encoder_weights = \"imagenet\", in_channels = 3, classes = 2)\n",
    "\n",
    "wandb.init(entity = \"computer-vision-wits\", project = \"computer-vision-wits\", name = f\"eff\")\n",
    "\n",
    "training_loop(eff_model, train_data, val_data, num_epochs = 10, batch_size = 2, learning_rate = 0.001, device = device)\n",
    "torch.cuda.empty_cache()\n",
    "\n",
    "wandb.finish()"
   ]
  },
  {
   "cell_type": "code",
   "execution_count": 28,
   "id": "rhXkTOSvEVDy",
   "metadata": {
    "colab": {
     "base_uri": "https://localhost:8080/",
     "height": 1000
    },
    "executionInfo": {
     "elapsed": 24337,
     "status": "ok",
     "timestamp": 1756709926377,
     "user": {
      "displayName": "Tumelo Mkwambe",
      "userId": "17432104495927173009"
     },
     "user_tz": -120
    },
    "id": "rhXkTOSvEVDy",
    "outputId": "d7fcae2f-e1e5-4681-f8e7-a6fcd15e1954"
   },
   "outputs": [
    {
     "data": {
      "text/html": [
       "Finishing previous runs because reinit is set to 'default'."
      ],
      "text/plain": [
       "<IPython.core.display.HTML object>"
      ]
     },
     "metadata": {},
     "output_type": "display_data"
    },
    {
     "data": {
      "text/html": [],
      "text/plain": [
       "<IPython.core.display.HTML object>"
      ]
     },
     "metadata": {},
     "output_type": "display_data"
    },
    {
     "data": {
      "text/html": [
       "<br>    <style><br>        .wandb-row {<br>            display: flex;<br>            flex-direction: row;<br>            flex-wrap: wrap;<br>            justify-content: flex-start;<br>            width: 100%;<br>        }<br>        .wandb-col {<br>            display: flex;<br>            flex-direction: column;<br>            flex-basis: 100%;<br>            flex: 1;<br>            padding: 10px;<br>        }<br>    </style><br><div class=\"wandb-row\"><div class=\"wandb-col\"><h3>Run history:</h3><br/><table class=\"wandb\"><tr><td>Training IoU</td><td>▁</td></tr><tr><td>Training Loss</td><td>▁</td></tr><tr><td>Validation IoU</td><td>▁</td></tr><tr><td>Validation Loss</td><td>▁</td></tr></table><br/></div><div class=\"wandb-col\"><h3>Run summary:</h3><br/><table class=\"wandb\"><tr><td>Training IoU</td><td>0.53878</td></tr><tr><td>Training Loss</td><td>0.58427</td></tr><tr><td>Validation IoU</td><td>0.1216</td></tr><tr><td>Validation Loss</td><td>10.89497</td></tr></table><br/></div></div>"
      ],
      "text/plain": [
       "<IPython.core.display.HTML object>"
      ]
     },
     "metadata": {},
     "output_type": "display_data"
    },
    {
     "data": {
      "text/html": [
       " View run <strong style=\"color:#cdcd00\">res</strong> at: <a href='https://wandb.ai/computer-vision-wits/computer-vision-wits/runs/x3j5koo9' target=\"_blank\">https://wandb.ai/computer-vision-wits/computer-vision-wits/runs/x3j5koo9</a><br> View project at: <a href='https://wandb.ai/computer-vision-wits/computer-vision-wits' target=\"_blank\">https://wandb.ai/computer-vision-wits/computer-vision-wits</a><br>Synced 5 W&B file(s), 0 media file(s), 0 artifact file(s) and 0 other file(s)"
      ],
      "text/plain": [
       "<IPython.core.display.HTML object>"
      ]
     },
     "metadata": {},
     "output_type": "display_data"
    },
    {
     "data": {
      "text/html": [
       "Find logs at: <code>./wandb/run-20250901_065806-x3j5koo9/logs</code>"
      ],
      "text/plain": [
       "<IPython.core.display.HTML object>"
      ]
     },
     "metadata": {},
     "output_type": "display_data"
    },
    {
     "data": {
      "text/html": [
       "Tracking run with wandb version 0.21.1"
      ],
      "text/plain": [
       "<IPython.core.display.HTML object>"
      ]
     },
     "metadata": {},
     "output_type": "display_data"
    },
    {
     "data": {
      "text/html": [
       "Run data is saved locally in <code>/content/drive/MyDrive/U-Net/wandb/run-20250901_065822-ed07x8pd</code>"
      ],
      "text/plain": [
       "<IPython.core.display.HTML object>"
      ]
     },
     "metadata": {},
     "output_type": "display_data"
    },
    {
     "data": {
      "text/html": [
       "Syncing run <strong><a href='https://wandb.ai/computer-vision-wits/computer-vision-wits/runs/ed07x8pd' target=\"_blank\">res</a></strong> to <a href='https://wandb.ai/computer-vision-wits/computer-vision-wits' target=\"_blank\">Weights & Biases</a> (<a href='https://wandb.me/developer-guide' target=\"_blank\">docs</a>)<br>"
      ],
      "text/plain": [
       "<IPython.core.display.HTML object>"
      ]
     },
     "metadata": {},
     "output_type": "display_data"
    },
    {
     "data": {
      "text/html": [
       " View project at <a href='https://wandb.ai/computer-vision-wits/computer-vision-wits' target=\"_blank\">https://wandb.ai/computer-vision-wits/computer-vision-wits</a>"
      ],
      "text/plain": [
       "<IPython.core.display.HTML object>"
      ]
     },
     "metadata": {},
     "output_type": "display_data"
    },
    {
     "data": {
      "text/html": [
       " View run at <a href='https://wandb.ai/computer-vision-wits/computer-vision-wits/runs/ed07x8pd' target=\"_blank\">https://wandb.ai/computer-vision-wits/computer-vision-wits/runs/ed07x8pd</a>"
      ],
      "text/plain": [
       "<IPython.core.display.HTML object>"
      ]
     },
     "metadata": {},
     "output_type": "display_data"
    },
    {
     "name": "stdout",
     "output_type": "stream",
     "text": [
      "Epoch: 0 | Training | Loss: 0.4610 | Accuracy: 0.8157 | Precision: 0.75466312340264 | Recall: 0.7810326590751733 | F1 Score: 0.7655004627159429 | IoU: 0.6327029185888922\n",
      "Validation | Loss: 30.4600 | Accuracy: 0.2408 | Precision: 0.6199040240691032 | Recall: 0.5008583638961319 | F1 Score: 0.1951373148377268 | IoU: 0.12076238796523509  \n",
      "\n",
      "Epoch: 1 | Training | Loss: 8.6837 | Accuracy: 0.5373 | Precision: 0.48844441464353794 | Recall: 0.485072345634989 | F1 Score: 0.4734529919652828 | IoU: 0.32932445303885527\n",
      "Validation | Loss: 0.9369 | Accuracy: 0.7560 | Precision: 0.37970959882230093 | Recall: 0.49703261490205 | F1 Score: 0.4305211996222939 | IoU: 0.3779958089192708  \n",
      "\n",
      "Epoch: 2 | Training | Loss: 1.1924 | Accuracy: 0.7496 | Precision: 0.37577808460889234 | Recall: 0.4982503950134736 | F1 Score: 0.428433588742286 | IoU: 0.3747889836629232\n",
      "Validation | Loss: 0.5366 | Accuracy: 0.7570 | Precision: 0.3798345022066904 | Recall: 0.4977129106122787 | F1 Score: 0.430856573406039 | IoU: 0.3785131772359212  \n",
      "\n",
      "Epoch: 3 | Training | Loss: 0.6171 | Accuracy: 0.7439 | Precision: 0.3750665634561785 | Recall: 0.4944747136437578 | F1 Score: 0.42657188668693224 | IoU: 0.3719488779703776\n",
      "Validation | Loss: 0.5971 | Accuracy: 0.7459 | Precision: 0.3784761719186024 | Recall: 0.49038975196690104 | F1 Score: 0.4272254923810398 | IoU: 0.3729438781738281  \n",
      "\n",
      "Epoch: 4 | Training | Loss: 0.5804 | Accuracy: 0.7421 | Precision: 0.3748414081122745 | Recall: 0.49328887026400103 | F1 Score: 0.42598466921741773 | IoU: 0.37105687459309894\n",
      "Validation | Loss: 2.9130 | Accuracy: 0.7512 | Precision: 0.37912617542913896 | Recall: 0.493873576604014 | F1 Score: 0.42895865619049817 | IoU: 0.3755933443705241  \n",
      "\n"
     ]
    },
    {
     "data": {
      "text/html": [],
      "text/plain": [
       "<IPython.core.display.HTML object>"
      ]
     },
     "metadata": {},
     "output_type": "display_data"
    },
    {
     "data": {
      "text/html": [
       "<br>    <style><br>        .wandb-row {<br>            display: flex;<br>            flex-direction: row;<br>            flex-wrap: wrap;<br>            justify-content: flex-start;<br>            width: 100%;<br>        }<br>        .wandb-col {<br>            display: flex;<br>            flex-direction: column;<br>            flex-basis: 100%;<br>            flex: 1;<br>            padding: 10px;<br>        }<br>    </style><br><div class=\"wandb-row\"><div class=\"wandb-col\"><h3>Run history:</h3><br/><table class=\"wandb\"><tr><td>Training IoU</td><td>█▁▂▂▂</td></tr><tr><td>Training Loss</td><td>▁█▂▁▁</td></tr><tr><td>Validation IoU</td><td>▁████</td></tr><tr><td>Validation Loss</td><td>█▁▁▁▂</td></tr></table><br/></div><div class=\"wandb-col\"><h3>Run summary:</h3><br/><table class=\"wandb\"><tr><td>Training IoU</td><td>0.37106</td></tr><tr><td>Training Loss</td><td>0.5804</td></tr><tr><td>Validation IoU</td><td>0.37559</td></tr><tr><td>Validation Loss</td><td>2.91302</td></tr></table><br/></div></div>"
      ],
      "text/plain": [
       "<IPython.core.display.HTML object>"
      ]
     },
     "metadata": {},
     "output_type": "display_data"
    },
    {
     "data": {
      "text/html": [
       " View run <strong style=\"color:#cdcd00\">res</strong> at: <a href='https://wandb.ai/computer-vision-wits/computer-vision-wits/runs/ed07x8pd' target=\"_blank\">https://wandb.ai/computer-vision-wits/computer-vision-wits/runs/ed07x8pd</a><br> View project at: <a href='https://wandb.ai/computer-vision-wits/computer-vision-wits' target=\"_blank\">https://wandb.ai/computer-vision-wits/computer-vision-wits</a><br>Synced 5 W&B file(s), 0 media file(s), 0 artifact file(s) and 0 other file(s)"
      ],
      "text/plain": [
       "<IPython.core.display.HTML object>"
      ]
     },
     "metadata": {},
     "output_type": "display_data"
    },
    {
     "data": {
      "text/html": [
       "Find logs at: <code>./wandb/run-20250901_065822-ed07x8pd/logs</code>"
      ],
      "text/plain": [
       "<IPython.core.display.HTML object>"
      ]
     },
     "metadata": {},
     "output_type": "display_data"
    }
   ],
   "source": [
    "res_model = smp.Unet(encoder_name=\"resnet34\", encoder_weights=\"imagenet\", in_channels=3, classes=2)\n",
    "\n",
    "wandb.init(entity = \"computer-vision-wits\", project = \"computer-vision-wits\", name = f\"res\")\n",
    "\n",
    "training_loop(res_model, train_data, val_data, num_epochs = 5, batch_size = 2, learning_rate = 0.001, device = device)\n",
    "torch.cuda.empty_cache()\n",
    "\n",
    "wandb.finish()"
   ]
  },
  {
   "cell_type": "code",
   "execution_count": null,
   "id": "1H26BdVOEdWQ",
   "metadata": {
    "id": "1H26BdVOEdWQ"
   },
   "outputs": [],
   "source": []
  }
 ],
 "metadata": {
  "accelerator": "GPU",
  "colab": {
   "gpuType": "T4",
   "provenance": []
  },
  "kernelspec": {
   "display_name": "Python 3 (ipykernel)",
   "language": "python",
   "name": "python3"
  },
  "language_info": {
   "codemirror_mode": {
    "name": "ipython",
    "version": 3
   },
   "file_extension": ".py",
   "mimetype": "text/x-python",
   "name": "python",
   "nbconvert_exporter": "python",
   "pygments_lexer": "ipython3",
   "version": "3.13.5"
  },
  "widgets": {
   "application/vnd.jupyter.widget-state+json": {
    "0efc34ef6f8a4cb79d038f350c202303": {
     "model_module": "@jupyter-widgets/controls",
     "model_module_version": "1.5.0",
     "model_name": "ProgressStyleModel",
     "state": {
      "_model_module": "@jupyter-widgets/controls",
      "_model_module_version": "1.5.0",
      "_model_name": "ProgressStyleModel",
      "_view_count": null,
      "_view_module": "@jupyter-widgets/base",
      "_view_module_version": "1.2.0",
      "_view_name": "StyleView",
      "bar_color": null,
      "description_width": ""
     }
    },
    "169ad21b8a4e4837b9724417c9c06ae5": {
     "model_module": "@jupyter-widgets/controls",
     "model_module_version": "1.5.0",
     "model_name": "DescriptionStyleModel",
     "state": {
      "_model_module": "@jupyter-widgets/controls",
      "_model_module_version": "1.5.0",
      "_model_name": "DescriptionStyleModel",
      "_view_count": null,
      "_view_module": "@jupyter-widgets/base",
      "_view_module_version": "1.2.0",
      "_view_name": "StyleView",
      "description_width": ""
     }
    },
    "1b8087fd260740dba96b64dfbd036242": {
     "model_module": "@jupyter-widgets/base",
     "model_module_version": "1.2.0",
     "model_name": "LayoutModel",
     "state": {
      "_model_module": "@jupyter-widgets/base",
      "_model_module_version": "1.2.0",
      "_model_name": "LayoutModel",
      "_view_count": null,
      "_view_module": "@jupyter-widgets/base",
      "_view_module_version": "1.2.0",
      "_view_name": "LayoutView",
      "align_content": null,
      "align_items": null,
      "align_self": null,
      "border": null,
      "bottom": null,
      "display": null,
      "flex": null,
      "flex_flow": null,
      "grid_area": null,
      "grid_auto_columns": null,
      "grid_auto_flow": null,
      "grid_auto_rows": null,
      "grid_column": null,
      "grid_gap": null,
      "grid_row": null,
      "grid_template_areas": null,
      "grid_template_columns": null,
      "grid_template_rows": null,
      "height": null,
      "justify_content": null,
      "justify_items": null,
      "left": null,
      "margin": null,
      "max_height": null,
      "max_width": null,
      "min_height": null,
      "min_width": null,
      "object_fit": null,
      "object_position": null,
      "order": null,
      "overflow": null,
      "overflow_x": null,
      "overflow_y": null,
      "padding": null,
      "right": null,
      "top": null,
      "visibility": null,
      "width": null
     }
    },
    "20ee3003b7ff428f96bf24d3c35b5bd3": {
     "model_module": "@jupyter-widgets/controls",
     "model_module_version": "1.5.0",
     "model_name": "HTMLModel",
     "state": {
      "_dom_classes": [],
      "_model_module": "@jupyter-widgets/controls",
      "_model_module_version": "1.5.0",
      "_model_name": "HTMLModel",
      "_view_count": null,
      "_view_module": "@jupyter-widgets/controls",
      "_view_module_version": "1.5.0",
      "_view_name": "HTMLView",
      "description": "",
      "description_tooltip": null,
      "layout": "IPY_MODEL_a3423aec3ad142b19cf992a263248664",
      "placeholder": "​",
      "style": "IPY_MODEL_169ad21b8a4e4837b9724417c9c06ae5",
      "value": " 21.4M/21.4M [00:00&lt;00:00, 34.5MB/s]"
     }
    },
    "2cbead96baad43eaabdd924eb6a1a56b": {
     "model_module": "@jupyter-widgets/base",
     "model_module_version": "1.2.0",
     "model_name": "LayoutModel",
     "state": {
      "_model_module": "@jupyter-widgets/base",
      "_model_module_version": "1.2.0",
      "_model_name": "LayoutModel",
      "_view_count": null,
      "_view_module": "@jupyter-widgets/base",
      "_view_module_version": "1.2.0",
      "_view_name": "LayoutView",
      "align_content": null,
      "align_items": null,
      "align_self": null,
      "border": null,
      "bottom": null,
      "display": null,
      "flex": null,
      "flex_flow": null,
      "grid_area": null,
      "grid_auto_columns": null,
      "grid_auto_flow": null,
      "grid_auto_rows": null,
      "grid_column": null,
      "grid_gap": null,
      "grid_row": null,
      "grid_template_areas": null,
      "grid_template_columns": null,
      "grid_template_rows": null,
      "height": null,
      "justify_content": null,
      "justify_items": null,
      "left": null,
      "margin": null,
      "max_height": null,
      "max_width": null,
      "min_height": null,
      "min_width": null,
      "object_fit": null,
      "object_position": null,
      "order": null,
      "overflow": null,
      "overflow_x": null,
      "overflow_y": null,
      "padding": null,
      "right": null,
      "top": null,
      "visibility": null,
      "width": null
     }
    },
    "30a50cfe27084f5dbf40c6ca461f0417": {
     "model_module": "@jupyter-widgets/controls",
     "model_module_version": "1.5.0",
     "model_name": "FloatProgressModel",
     "state": {
      "_dom_classes": [],
      "_model_module": "@jupyter-widgets/controls",
      "_model_module_version": "1.5.0",
      "_model_name": "FloatProgressModel",
      "_view_count": null,
      "_view_module": "@jupyter-widgets/controls",
      "_view_module_version": "1.5.0",
      "_view_name": "ProgressView",
      "bar_style": "success",
      "description": "",
      "description_tooltip": null,
      "layout": "IPY_MODEL_ad3dc1d8fffa4d48ae434c99761c4bcf",
      "max": 106,
      "min": 0,
      "orientation": "horizontal",
      "style": "IPY_MODEL_62eaf88089544f17bd6d8b3b80647560",
      "value": 106
     }
    },
    "3c0a9368f5fd4c1994afe77d789c3043": {
     "model_module": "@jupyter-widgets/base",
     "model_module_version": "1.2.0",
     "model_name": "LayoutModel",
     "state": {
      "_model_module": "@jupyter-widgets/base",
      "_model_module_version": "1.2.0",
      "_model_name": "LayoutModel",
      "_view_count": null,
      "_view_module": "@jupyter-widgets/base",
      "_view_module_version": "1.2.0",
      "_view_name": "LayoutView",
      "align_content": null,
      "align_items": null,
      "align_self": null,
      "border": null,
      "bottom": null,
      "display": null,
      "flex": null,
      "flex_flow": null,
      "grid_area": null,
      "grid_auto_columns": null,
      "grid_auto_flow": null,
      "grid_auto_rows": null,
      "grid_column": null,
      "grid_gap": null,
      "grid_row": null,
      "grid_template_areas": null,
      "grid_template_columns": null,
      "grid_template_rows": null,
      "height": null,
      "justify_content": null,
      "justify_items": null,
      "left": null,
      "margin": null,
      "max_height": null,
      "max_width": null,
      "min_height": null,
      "min_width": null,
      "object_fit": null,
      "object_position": null,
      "order": null,
      "overflow": null,
      "overflow_x": null,
      "overflow_y": null,
      "padding": null,
      "right": null,
      "top": null,
      "visibility": null,
      "width": null
     }
    },
    "490ee4661f804a63b6625e44cec2fc85": {
     "model_module": "@jupyter-widgets/controls",
     "model_module_version": "1.5.0",
     "model_name": "HTMLModel",
     "state": {
      "_dom_classes": [],
      "_model_module": "@jupyter-widgets/controls",
      "_model_module_version": "1.5.0",
      "_model_name": "HTMLModel",
      "_view_count": null,
      "_view_module": "@jupyter-widgets/controls",
      "_view_module_version": "1.5.0",
      "_view_name": "HTMLView",
      "description": "",
      "description_tooltip": null,
      "layout": "IPY_MODEL_eee8873894b847828ddc38168fde2773",
      "placeholder": "​",
      "style": "IPY_MODEL_cd942aa208a34c81b019c0f4750666df",
      "value": "model.safetensors: 100%"
     }
    },
    "4aff315caad149d8a89750543473af15": {
     "model_module": "@jupyter-widgets/controls",
     "model_module_version": "1.5.0",
     "model_name": "FloatProgressModel",
     "state": {
      "_dom_classes": [],
      "_model_module": "@jupyter-widgets/controls",
      "_model_module_version": "1.5.0",
      "_model_name": "FloatProgressModel",
      "_view_count": null,
      "_view_module": "@jupyter-widgets/controls",
      "_view_module_version": "1.5.0",
      "_view_name": "ProgressView",
      "bar_style": "success",
      "description": "",
      "description_tooltip": null,
      "layout": "IPY_MODEL_3c0a9368f5fd4c1994afe77d789c3043",
      "max": 21355856,
      "min": 0,
      "orientation": "horizontal",
      "style": "IPY_MODEL_0efc34ef6f8a4cb79d038f350c202303",
      "value": 21355856
     }
    },
    "62eaf88089544f17bd6d8b3b80647560": {
     "model_module": "@jupyter-widgets/controls",
     "model_module_version": "1.5.0",
     "model_name": "ProgressStyleModel",
     "state": {
      "_model_module": "@jupyter-widgets/controls",
      "_model_module_version": "1.5.0",
      "_model_name": "ProgressStyleModel",
      "_view_count": null,
      "_view_module": "@jupyter-widgets/base",
      "_view_module_version": "1.2.0",
      "_view_name": "StyleView",
      "bar_color": null,
      "description_width": ""
     }
    },
    "74fd68d4951e4f93bf58f50beb87296d": {
     "model_module": "@jupyter-widgets/controls",
     "model_module_version": "1.5.0",
     "model_name": "HTMLModel",
     "state": {
      "_dom_classes": [],
      "_model_module": "@jupyter-widgets/controls",
      "_model_module_version": "1.5.0",
      "_model_name": "HTMLModel",
      "_view_count": null,
      "_view_module": "@jupyter-widgets/controls",
      "_view_module_version": "1.5.0",
      "_view_name": "HTMLView",
      "description": "",
      "description_tooltip": null,
      "layout": "IPY_MODEL_93d5c6c594ff4e89b8b81fddfac6a694",
      "placeholder": "​",
      "style": "IPY_MODEL_ad41b7b68d3c46ccb0bcad7b546ccb7b",
      "value": "config.json: 100%"
     }
    },
    "7c839ccf18f74c088f0e17a5a8660b68": {
     "model_module": "@jupyter-widgets/base",
     "model_module_version": "1.2.0",
     "model_name": "LayoutModel",
     "state": {
      "_model_module": "@jupyter-widgets/base",
      "_model_module_version": "1.2.0",
      "_model_name": "LayoutModel",
      "_view_count": null,
      "_view_module": "@jupyter-widgets/base",
      "_view_module_version": "1.2.0",
      "_view_name": "LayoutView",
      "align_content": null,
      "align_items": null,
      "align_self": null,
      "border": null,
      "bottom": null,
      "display": null,
      "flex": null,
      "flex_flow": null,
      "grid_area": null,
      "grid_auto_columns": null,
      "grid_auto_flow": null,
      "grid_auto_rows": null,
      "grid_column": null,
      "grid_gap": null,
      "grid_row": null,
      "grid_template_areas": null,
      "grid_template_columns": null,
      "grid_template_rows": null,
      "height": null,
      "justify_content": null,
      "justify_items": null,
      "left": null,
      "margin": null,
      "max_height": null,
      "max_width": null,
      "min_height": null,
      "min_width": null,
      "object_fit": null,
      "object_position": null,
      "order": null,
      "overflow": null,
      "overflow_x": null,
      "overflow_y": null,
      "padding": null,
      "right": null,
      "top": null,
      "visibility": null,
      "width": null
     }
    },
    "93d5c6c594ff4e89b8b81fddfac6a694": {
     "model_module": "@jupyter-widgets/base",
     "model_module_version": "1.2.0",
     "model_name": "LayoutModel",
     "state": {
      "_model_module": "@jupyter-widgets/base",
      "_model_module_version": "1.2.0",
      "_model_name": "LayoutModel",
      "_view_count": null,
      "_view_module": "@jupyter-widgets/base",
      "_view_module_version": "1.2.0",
      "_view_name": "LayoutView",
      "align_content": null,
      "align_items": null,
      "align_self": null,
      "border": null,
      "bottom": null,
      "display": null,
      "flex": null,
      "flex_flow": null,
      "grid_area": null,
      "grid_auto_columns": null,
      "grid_auto_flow": null,
      "grid_auto_rows": null,
      "grid_column": null,
      "grid_gap": null,
      "grid_row": null,
      "grid_template_areas": null,
      "grid_template_columns": null,
      "grid_template_rows": null,
      "height": null,
      "justify_content": null,
      "justify_items": null,
      "left": null,
      "margin": null,
      "max_height": null,
      "max_width": null,
      "min_height": null,
      "min_width": null,
      "object_fit": null,
      "object_position": null,
      "order": null,
      "overflow": null,
      "overflow_x": null,
      "overflow_y": null,
      "padding": null,
      "right": null,
      "top": null,
      "visibility": null,
      "width": null
     }
    },
    "a3423aec3ad142b19cf992a263248664": {
     "model_module": "@jupyter-widgets/base",
     "model_module_version": "1.2.0",
     "model_name": "LayoutModel",
     "state": {
      "_model_module": "@jupyter-widgets/base",
      "_model_module_version": "1.2.0",
      "_model_name": "LayoutModel",
      "_view_count": null,
      "_view_module": "@jupyter-widgets/base",
      "_view_module_version": "1.2.0",
      "_view_name": "LayoutView",
      "align_content": null,
      "align_items": null,
      "align_self": null,
      "border": null,
      "bottom": null,
      "display": null,
      "flex": null,
      "flex_flow": null,
      "grid_area": null,
      "grid_auto_columns": null,
      "grid_auto_flow": null,
      "grid_auto_rows": null,
      "grid_column": null,
      "grid_gap": null,
      "grid_row": null,
      "grid_template_areas": null,
      "grid_template_columns": null,
      "grid_template_rows": null,
      "height": null,
      "justify_content": null,
      "justify_items": null,
      "left": null,
      "margin": null,
      "max_height": null,
      "max_width": null,
      "min_height": null,
      "min_width": null,
      "object_fit": null,
      "object_position": null,
      "order": null,
      "overflow": null,
      "overflow_x": null,
      "overflow_y": null,
      "padding": null,
      "right": null,
      "top": null,
      "visibility": null,
      "width": null
     }
    },
    "aaf0e3f392a1421c98da3d69d05cb1b8": {
     "model_module": "@jupyter-widgets/controls",
     "model_module_version": "1.5.0",
     "model_name": "DescriptionStyleModel",
     "state": {
      "_model_module": "@jupyter-widgets/controls",
      "_model_module_version": "1.5.0",
      "_model_name": "DescriptionStyleModel",
      "_view_count": null,
      "_view_module": "@jupyter-widgets/base",
      "_view_module_version": "1.2.0",
      "_view_name": "StyleView",
      "description_width": ""
     }
    },
    "ad3dc1d8fffa4d48ae434c99761c4bcf": {
     "model_module": "@jupyter-widgets/base",
     "model_module_version": "1.2.0",
     "model_name": "LayoutModel",
     "state": {
      "_model_module": "@jupyter-widgets/base",
      "_model_module_version": "1.2.0",
      "_model_name": "LayoutModel",
      "_view_count": null,
      "_view_module": "@jupyter-widgets/base",
      "_view_module_version": "1.2.0",
      "_view_name": "LayoutView",
      "align_content": null,
      "align_items": null,
      "align_self": null,
      "border": null,
      "bottom": null,
      "display": null,
      "flex": null,
      "flex_flow": null,
      "grid_area": null,
      "grid_auto_columns": null,
      "grid_auto_flow": null,
      "grid_auto_rows": null,
      "grid_column": null,
      "grid_gap": null,
      "grid_row": null,
      "grid_template_areas": null,
      "grid_template_columns": null,
      "grid_template_rows": null,
      "height": null,
      "justify_content": null,
      "justify_items": null,
      "left": null,
      "margin": null,
      "max_height": null,
      "max_width": null,
      "min_height": null,
      "min_width": null,
      "object_fit": null,
      "object_position": null,
      "order": null,
      "overflow": null,
      "overflow_x": null,
      "overflow_y": null,
      "padding": null,
      "right": null,
      "top": null,
      "visibility": null,
      "width": null
     }
    },
    "ad41b7b68d3c46ccb0bcad7b546ccb7b": {
     "model_module": "@jupyter-widgets/controls",
     "model_module_version": "1.5.0",
     "model_name": "DescriptionStyleModel",
     "state": {
      "_model_module": "@jupyter-widgets/controls",
      "_model_module_version": "1.5.0",
      "_model_name": "DescriptionStyleModel",
      "_view_count": null,
      "_view_module": "@jupyter-widgets/base",
      "_view_module_version": "1.2.0",
      "_view_name": "StyleView",
      "description_width": ""
     }
    },
    "b3daadaf1b044650a9db94c0e803a31a": {
     "model_module": "@jupyter-widgets/controls",
     "model_module_version": "1.5.0",
     "model_name": "HBoxModel",
     "state": {
      "_dom_classes": [],
      "_model_module": "@jupyter-widgets/controls",
      "_model_module_version": "1.5.0",
      "_model_name": "HBoxModel",
      "_view_count": null,
      "_view_module": "@jupyter-widgets/controls",
      "_view_module_version": "1.5.0",
      "_view_name": "HBoxView",
      "box_style": "",
      "children": [
       "IPY_MODEL_74fd68d4951e4f93bf58f50beb87296d",
       "IPY_MODEL_30a50cfe27084f5dbf40c6ca461f0417",
       "IPY_MODEL_ba258fceda4445efb33dd562125e6206"
      ],
      "layout": "IPY_MODEL_2cbead96baad43eaabdd924eb6a1a56b"
     }
    },
    "ba258fceda4445efb33dd562125e6206": {
     "model_module": "@jupyter-widgets/controls",
     "model_module_version": "1.5.0",
     "model_name": "HTMLModel",
     "state": {
      "_dom_classes": [],
      "_model_module": "@jupyter-widgets/controls",
      "_model_module_version": "1.5.0",
      "_model_name": "HTMLModel",
      "_view_count": null,
      "_view_module": "@jupyter-widgets/controls",
      "_view_module_version": "1.5.0",
      "_view_name": "HTMLView",
      "description": "",
      "description_tooltip": null,
      "layout": "IPY_MODEL_7c839ccf18f74c088f0e17a5a8660b68",
      "placeholder": "​",
      "style": "IPY_MODEL_aaf0e3f392a1421c98da3d69d05cb1b8",
      "value": " 106/106 [00:00&lt;00:00, 10.2kB/s]"
     }
    },
    "bc2a6d25b22f4ac788c377fee20c3518": {
     "model_module": "@jupyter-widgets/controls",
     "model_module_version": "1.5.0",
     "model_name": "HBoxModel",
     "state": {
      "_dom_classes": [],
      "_model_module": "@jupyter-widgets/controls",
      "_model_module_version": "1.5.0",
      "_model_name": "HBoxModel",
      "_view_count": null,
      "_view_module": "@jupyter-widgets/controls",
      "_view_module_version": "1.5.0",
      "_view_name": "HBoxView",
      "box_style": "",
      "children": [
       "IPY_MODEL_490ee4661f804a63b6625e44cec2fc85",
       "IPY_MODEL_4aff315caad149d8a89750543473af15",
       "IPY_MODEL_20ee3003b7ff428f96bf24d3c35b5bd3"
      ],
      "layout": "IPY_MODEL_1b8087fd260740dba96b64dfbd036242"
     }
    },
    "cd942aa208a34c81b019c0f4750666df": {
     "model_module": "@jupyter-widgets/controls",
     "model_module_version": "1.5.0",
     "model_name": "DescriptionStyleModel",
     "state": {
      "_model_module": "@jupyter-widgets/controls",
      "_model_module_version": "1.5.0",
      "_model_name": "DescriptionStyleModel",
      "_view_count": null,
      "_view_module": "@jupyter-widgets/base",
      "_view_module_version": "1.2.0",
      "_view_name": "StyleView",
      "description_width": ""
     }
    },
    "eee8873894b847828ddc38168fde2773": {
     "model_module": "@jupyter-widgets/base",
     "model_module_version": "1.2.0",
     "model_name": "LayoutModel",
     "state": {
      "_model_module": "@jupyter-widgets/base",
      "_model_module_version": "1.2.0",
      "_model_name": "LayoutModel",
      "_view_count": null,
      "_view_module": "@jupyter-widgets/base",
      "_view_module_version": "1.2.0",
      "_view_name": "LayoutView",
      "align_content": null,
      "align_items": null,
      "align_self": null,
      "border": null,
      "bottom": null,
      "display": null,
      "flex": null,
      "flex_flow": null,
      "grid_area": null,
      "grid_auto_columns": null,
      "grid_auto_flow": null,
      "grid_auto_rows": null,
      "grid_column": null,
      "grid_gap": null,
      "grid_row": null,
      "grid_template_areas": null,
      "grid_template_columns": null,
      "grid_template_rows": null,
      "height": null,
      "justify_content": null,
      "justify_items": null,
      "left": null,
      "margin": null,
      "max_height": null,
      "max_width": null,
      "min_height": null,
      "min_width": null,
      "object_fit": null,
      "object_position": null,
      "order": null,
      "overflow": null,
      "overflow_x": null,
      "overflow_y": null,
      "padding": null,
      "right": null,
      "top": null,
      "visibility": null,
      "width": null
     }
    }
   }
  }
 },
 "nbformat": 4,
 "nbformat_minor": 5
}
