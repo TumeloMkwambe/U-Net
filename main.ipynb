{
 "cells": [
  {
   "cell_type": "code",
   "execution_count": 1,
   "id": "ff969dc7-94d1-47c8-a364-09080cb1735b",
   "metadata": {
    "colab": {
     "base_uri": "https://localhost:8080/"
    },
    "executionInfo": {
     "elapsed": 32133,
     "status": "ok",
     "timestamp": 1756987253747,
     "user": {
      "displayName": "Tumelo Mkwambe",
      "userId": "08813125351880853308"
     },
     "user_tz": -120
    },
    "id": "ff969dc7-94d1-47c8-a364-09080cb1735b",
    "outputId": "bbcec4e3-ece9-483b-d3e1-bf76606cd708"
   },
   "outputs": [
    {
     "name": "stdout",
     "output_type": "stream",
     "text": [
      "Mounted at /content/drive\n"
     ]
    }
   ],
   "source": [
    "from google.colab import drive\n",
    "drive.mount('/content/drive')"
   ]
  },
  {
   "cell_type": "code",
   "execution_count": 3,
   "id": "4d284220-e119-46cc-aca5-1f335477c6d5",
   "metadata": {
    "colab": {
     "base_uri": "https://localhost:8080/"
    },
    "executionInfo": {
     "elapsed": 40,
     "status": "ok",
     "timestamp": 1756987267096,
     "user": {
      "displayName": "Tumelo Mkwambe",
      "userId": "08813125351880853308"
     },
     "user_tz": -120
    },
    "id": "4d284220-e119-46cc-aca5-1f335477c6d5",
    "outputId": "9a0109f7-1adc-449b-f5db-fbcb825e8695"
   },
   "outputs": [
    {
     "name": "stdout",
     "output_type": "stream",
     "text": [
      "Current directory: /content/drive/MyDrive/DL/U-Net\n"
     ]
    }
   ],
   "source": [
    "import os\n",
    "project_path = \"/content/drive/MyDrive/DL/U-Net\"\n",
    "os.chdir(project_path)\n",
    "print(\"Current directory:\", os.getcwd())"
   ]
  },
  {
   "cell_type": "code",
   "execution_count": 4,
   "id": "7b50fd05-3c0e-45de-b6d4-0c956e2d0a87",
   "metadata": {
    "executionInfo": {
     "elapsed": 9378,
     "status": "ok",
     "timestamp": 1756987279504,
     "user": {
      "displayName": "Tumelo Mkwambe",
      "userId": "08813125351880853308"
     },
     "user_tz": -120
    },
    "id": "7b50fd05-3c0e-45de-b6d4-0c956e2d0a87"
   },
   "outputs": [],
   "source": [
    "import torch\n",
    "import wandb\n",
    "from u_net import U_Net\n",
    "from data import get_data, view\n",
    "from loops import training_loop, performance_report"
   ]
  },
  {
   "cell_type": "code",
   "execution_count": 5,
   "id": "dd659d6b-a5a8-4510-af02-f4d9aca459bc",
   "metadata": {
    "colab": {
     "base_uri": "https://localhost:8080/",
     "height": 231
    },
    "executionInfo": {
     "elapsed": 19007,
     "status": "ok",
     "timestamp": 1756987300277,
     "user": {
      "displayName": "Tumelo Mkwambe",
      "userId": "08813125351880853308"
     },
     "user_tz": -120
    },
    "id": "dd659d6b-a5a8-4510-af02-f4d9aca459bc",
    "outputId": "a819cb3d-40d9-43cb-a927-b4f24dfc8f6b"
   },
   "outputs": [
    {
     "name": "stderr",
     "output_type": "stream",
     "text": [
      "/usr/local/lib/python3.12/dist-packages/notebook/notebookapp.py:191: SyntaxWarning: invalid escape sequence '\\/'\n",
      "  | |_| | '_ \\/ _` / _` |  _/ -_)\n"
     ]
    },
    {
     "data": {
      "application/javascript": [
       "\n",
       "        window._wandbApiKey = new Promise((resolve, reject) => {\n",
       "            function loadScript(url) {\n",
       "            return new Promise(function(resolve, reject) {\n",
       "                let newScript = document.createElement(\"script\");\n",
       "                newScript.onerror = reject;\n",
       "                newScript.onload = resolve;\n",
       "                document.body.appendChild(newScript);\n",
       "                newScript.src = url;\n",
       "            });\n",
       "            }\n",
       "            loadScript(\"https://cdn.jsdelivr.net/npm/postmate/build/postmate.min.js\").then(() => {\n",
       "            const iframe = document.createElement('iframe')\n",
       "            iframe.style.cssText = \"width:0;height:0;border:none\"\n",
       "            document.body.appendChild(iframe)\n",
       "            const handshake = new Postmate({\n",
       "                container: iframe,\n",
       "                url: 'https://wandb.ai/authorize'\n",
       "            });\n",
       "            const timeout = setTimeout(() => reject(\"Couldn't auto authenticate\"), 5000)\n",
       "            handshake.then(function(child) {\n",
       "                child.on('authorize', data => {\n",
       "                    clearTimeout(timeout)\n",
       "                    resolve(data)\n",
       "                });\n",
       "            });\n",
       "            })\n",
       "        });\n",
       "    "
      ],
      "text/plain": [
       "<IPython.core.display.Javascript object>"
      ]
     },
     "metadata": {},
     "output_type": "display_data"
    },
    {
     "name": "stderr",
     "output_type": "stream",
     "text": [
      "\u001b[34m\u001b[1mwandb\u001b[0m: Logging into wandb.ai. (Learn how to deploy a W&B server locally: https://wandb.me/wandb-server)\n",
      "\u001b[34m\u001b[1mwandb\u001b[0m: You can find your API key in your browser here: https://wandb.ai/authorize\n",
      "wandb: Paste an API key from your profile and hit enter:"
     ]
    },
    {
     "name": "stdout",
     "output_type": "stream",
     "text": [
      " ··········\n"
     ]
    },
    {
     "name": "stderr",
     "output_type": "stream",
     "text": [
      "\u001b[34m\u001b[1mwandb\u001b[0m: \u001b[33mWARNING\u001b[0m If you're specifying your api key in code, ensure this code is not shared publicly.\n",
      "\u001b[34m\u001b[1mwandb\u001b[0m: \u001b[33mWARNING\u001b[0m Consider setting the WANDB_API_KEY environment variable, or running `wandb login` from the command line.\n",
      "\u001b[34m\u001b[1mwandb\u001b[0m: No netrc file found, creating one.\n",
      "\u001b[34m\u001b[1mwandb\u001b[0m: Appending key for api.wandb.ai to your netrc file: /root/.netrc\n",
      "\u001b[34m\u001b[1mwandb\u001b[0m: Currently logged in as: \u001b[33mmkwambetumelo\u001b[0m to \u001b[32mhttps://api.wandb.ai\u001b[0m. Use \u001b[1m`wandb login --relogin`\u001b[0m to force relogin\n"
     ]
    },
    {
     "data": {
      "text/plain": [
       "True"
      ]
     },
     "execution_count": 5,
     "metadata": {},
     "output_type": "execute_result"
    }
   ],
   "source": [
    "device = torch.device(\"cuda\" if torch.cuda.is_available() else \"cpu\")\n",
    "wandb.login()"
   ]
  },
  {
   "cell_type": "code",
   "execution_count": 6,
   "id": "90c092bd-0c75-4420-bd34-d3d8c8b380c6",
   "metadata": {
    "executionInfo": {
     "elapsed": 16282,
     "status": "ok",
     "timestamp": 1756987319315,
     "user": {
      "displayName": "Tumelo Mkwambe",
      "userId": "08813125351880853308"
     },
     "user_tz": -120
    },
    "id": "90c092bd-0c75-4420-bd34-d3d8c8b380c6"
   },
   "outputs": [],
   "source": [
    "train_data = get_data('train', [2, 7, 10, 12, 21, 24, 27, 28, 30, 43])\n",
    "val_data = get_data('val', [1, 11, 22, 32])\n",
    "test_data = get_data('test', [4, 16, 29, 36])"
   ]
  },
  {
   "cell_type": "code",
   "execution_count": 17,
   "id": "9bEIhMgHXzl-",
   "metadata": {
    "executionInfo": {
     "elapsed": 173,
     "status": "ok",
     "timestamp": 1756987693620,
     "user": {
      "displayName": "Tumelo Mkwambe",
      "userId": "08813125351880853308"
     },
     "user_tz": -120
    },
    "id": "9bEIhMgHXzl-"
   },
   "outputs": [],
   "source": [
    "model = U_Net(\n",
    "    in_channels = 3,\n",
    "    out_channels = 2,\n",
    "    start_channels = 64,\n",
    "    depth = 4,\n",
    "    bilinear = False\n",
    ")"
   ]
  },
  {
   "cell_type": "code",
   "execution_count": 18,
   "id": "28a6066d-f8e9-4099-a83b-4395fbacb602",
   "metadata": {
    "colab": {
     "base_uri": "https://localhost:8080/",
     "height": 1000
    },
    "executionInfo": {
     "elapsed": 164731,
     "status": "ok",
     "timestamp": 1756987859142,
     "user": {
      "displayName": "Tumelo Mkwambe",
      "userId": "08813125351880853308"
     },
     "user_tz": -120
    },
    "id": "28a6066d-f8e9-4099-a83b-4395fbacb602",
    "outputId": "76f6d9b5-ccd1-40e7-e195-480c17e1921f"
   },
   "outputs": [
    {
     "data": {
      "text/html": [
       "Tracking run with wandb version 0.21.1"
      ],
      "text/plain": [
       "<IPython.core.display.HTML object>"
      ]
     },
     "metadata": {},
     "output_type": "display_data"
    },
    {
     "data": {
      "text/html": [
       "Run data is saved locally in <code>/content/drive/MyDrive/DL/U-Net/wandb/run-20250904_120814-3bxoxdzh</code>"
      ],
      "text/plain": [
       "<IPython.core.display.HTML object>"
      ]
     },
     "metadata": {},
     "output_type": "display_data"
    },
    {
     "data": {
      "text/html": [
       "Syncing run <strong><a href='https://wandb.ai/computer-vision-wits/U-Net/runs/3bxoxdzh' target=\"_blank\">unet_run1</a></strong> to <a href='https://wandb.ai/computer-vision-wits/U-Net' target=\"_blank\">Weights & Biases</a> (<a href='https://wandb.me/developer-guide' target=\"_blank\">docs</a>)<br>"
      ],
      "text/plain": [
       "<IPython.core.display.HTML object>"
      ]
     },
     "metadata": {},
     "output_type": "display_data"
    },
    {
     "data": {
      "text/html": [
       " View project at <a href='https://wandb.ai/computer-vision-wits/U-Net' target=\"_blank\">https://wandb.ai/computer-vision-wits/U-Net</a>"
      ],
      "text/plain": [
       "<IPython.core.display.HTML object>"
      ]
     },
     "metadata": {},
     "output_type": "display_data"
    },
    {
     "data": {
      "text/html": [
       " View run at <a href='https://wandb.ai/computer-vision-wits/U-Net/runs/3bxoxdzh' target=\"_blank\">https://wandb.ai/computer-vision-wits/U-Net/runs/3bxoxdzh</a>"
      ],
      "text/plain": [
       "<IPython.core.display.HTML object>"
      ]
     },
     "metadata": {},
     "output_type": "display_data"
    },
    {
     "name": "stdout",
     "output_type": "stream",
     "text": [
      "Epoch: 0\n",
      "Training | Loss: 0.6881301204363505\n",
      "Validation | Loss: 0.6011362671852112 | Accuracy: 0.7605050404866537 | Precision: 0.5783679166056067 | Recall: 0.7605050404866537 | F1: 0.6570477258568136 \n",
      "\n",
      "Epoch: 1\n",
      "Training | Loss: 0.6856744488080343\n",
      "Validation | Loss: 0.6020709872245789 | Accuracy: 0.7605050404866537 | Precision: 0.5783679166056067 | Recall: 0.7605050404866537 | F1: 0.6570477258568136 \n",
      "\n",
      "Epoch: 2\n",
      "Training | Loss: 0.6756862998008728\n",
      "Validation | Loss: 0.6233681440353394 | Accuracy: 0.7605050404866537 | Precision: 0.5783679166056067 | Recall: 0.7605050404866537 | F1: 0.6570477258568136 \n",
      "\n",
      "Epoch: 3\n",
      "Training | Loss: 0.6674652099609375\n",
      "Validation | Loss: 0.5726351141929626 | Accuracy: 0.7825180689493815 | Precision: 0.8308810755231386 | Recall: 0.7825180689493815 | F1: 0.705687419505329 \n",
      "\n",
      "Epoch: 4\n",
      "Training | Loss: 0.6480146249135336\n",
      "Validation | Loss: 0.5262475609779358 | Accuracy: 0.9540551503499349 | Precision: 0.9561257893868187 | Recall: 0.9540551503499349 | F1: 0.9524179305623983 \n",
      "\n",
      "Epoch: 5\n",
      "Training | Loss: 0.5931413769721985\n",
      "Validation | Loss: 0.3217991888523102 | Accuracy: 0.9339275360107422 | Precision: 0.9390135640023946 | Recall: 0.9339275360107422 | F1: 0.9300638256933076 \n",
      "\n",
      "Epoch: 6\n",
      "Training | Loss: 0.5844367146492004\n",
      "Validation | Loss: 0.3321739733219147 | Accuracy: 0.9710241953531901 | Precision: 0.9713398242469892 | Recall: 0.9710241953531901 | F1: 0.9705483110188663 \n",
      "\n",
      "Epoch: 7\n",
      "Training | Loss: 0.5300999085108439\n",
      "Validation | Loss: 0.24556851387023926 | Accuracy: 0.9701725641886393 | Precision: 0.9706358348565254 | Recall: 0.9701725641886393 | F1: 0.9696276580125908 \n",
      "\n",
      "Epoch: 8\n",
      "Training | Loss: 0.4709143439928691\n",
      "Validation | Loss: 0.24562908709049225 | Accuracy: 0.9745648701985677 | Precision: 0.974660452843714 | Recall: 0.9745648701985677 | F1: 0.9742551629175371 \n",
      "\n",
      "Epoch: 9\n",
      "Training | Loss: 0.471190482378006\n",
      "Validation | Loss: 1.6126240491867065 | Accuracy: 0.2900501887003581 | Precision: 0.8209170174605066 | Recall: 0.2900501887003581 | F1: 0.19129370465364093 \n",
      "\n",
      "Epoch: 10\n",
      "Training | Loss: 0.6303286949793497\n",
      "Validation | Loss: 0.19599711894989014 | Accuracy: 0.9341570536295573 | Precision: 0.9392792140586937 | Recall: 0.9341570536295573 | F1: 0.9303062591291132 \n",
      "\n",
      "Epoch: 11\n",
      "Training | Loss: 0.6396608948707581\n",
      "Validation | Loss: 0.2352321892976761 | Accuracy: 0.9512888590494791 | Precision: 0.95388965833558 | Recall: 0.9512888590494791 | F1: 0.9493633270432073 \n",
      "\n",
      "Epoch: 12\n",
      "Training | Loss: 0.4908804992834727\n",
      "Validation | Loss: 0.45498237013816833 | Accuracy: 0.9831686019897461 | Precision: 0.9832755897273814 | Recall: 0.9831686019897461 | F1: 0.9832077897741159 \n",
      "\n",
      "Epoch: 13\n",
      "Training | Loss: 0.5111745198567709\n",
      "Validation | Loss: 0.5942848324775696 | Accuracy: 0.5772755940755209 | Precision: 0.8408329978192027 | Recall: 0.5772755940755209 | F1: 0.5957696299965973 \n",
      "\n",
      "Epoch: 14\n",
      "Training | Loss: 0.4890141685803731\n",
      "Validation | Loss: 0.43332186341285706 | Accuracy: 0.9810129801432291 | Precision: 0.9809440158845263 | Recall: 0.9810129801432291 | F1: 0.9809532333362495 \n",
      "\n"
     ]
    },
    {
     "data": {
      "text/html": [],
      "text/plain": [
       "<IPython.core.display.HTML object>"
      ]
     },
     "metadata": {},
     "output_type": "display_data"
    },
    {
     "data": {
      "text/html": [
       "<br>    <style><br>        .wandb-row {<br>            display: flex;<br>            flex-direction: row;<br>            flex-wrap: wrap;<br>            justify-content: flex-start;<br>            width: 100%;<br>        }<br>        .wandb-col {<br>            display: flex;<br>            flex-direction: column;<br>            flex-basis: 100%;<br>            flex: 1;<br>            padding: 10px;<br>        }<br>    </style><br><div class=\"wandb-row\"><div class=\"wandb-col\"><h3>Run history:</h3><br/><table class=\"wandb\"><tr><td>Training Loss</td><td>███▇▇▅▅▃▁▁▆▆▂▂▂</td></tr><tr><td>Validation Accuracy</td><td>▆▆▆▆█████▁███▄█</td></tr><tr><td>Validation F1</td><td>▅▅▅▆█████▁███▅█</td></tr><tr><td>Validation Loss</td><td>▃▃▃▃▃▂▂▁▁█▁▁▂▃▂</td></tr><tr><td>Validation Precision</td><td>▁▁▁▅█▇███▅▇▇█▆█</td></tr><tr><td>Validation Recall</td><td>▆▆▆▆█████▁███▄█</td></tr></table><br/></div><div class=\"wandb-col\"><h3>Run summary:</h3><br/><table class=\"wandb\"><tr><td>Training Loss</td><td>0.48901</td></tr><tr><td>Validation Accuracy</td><td>0.98101</td></tr><tr><td>Validation F1</td><td>0.98095</td></tr><tr><td>Validation Loss</td><td>0.43332</td></tr><tr><td>Validation Precision</td><td>0.98094</td></tr><tr><td>Validation Recall</td><td>0.98101</td></tr></table><br/></div></div>"
      ],
      "text/plain": [
       "<IPython.core.display.HTML object>"
      ]
     },
     "metadata": {},
     "output_type": "display_data"
    },
    {
     "data": {
      "text/html": [
       " View run <strong style=\"color:#cdcd00\">unet_run1</strong> at: <a href='https://wandb.ai/computer-vision-wits/U-Net/runs/3bxoxdzh' target=\"_blank\">https://wandb.ai/computer-vision-wits/U-Net/runs/3bxoxdzh</a><br> View project at: <a href='https://wandb.ai/computer-vision-wits/U-Net' target=\"_blank\">https://wandb.ai/computer-vision-wits/U-Net</a><br>Synced 5 W&B file(s), 0 media file(s), 0 artifact file(s) and 0 other file(s)"
      ],
      "text/plain": [
       "<IPython.core.display.HTML object>"
      ]
     },
     "metadata": {},
     "output_type": "display_data"
    },
    {
     "data": {
      "text/html": [
       "Find logs at: <code>./wandb/run-20250904_120814-3bxoxdzh/logs</code>"
      ],
      "text/plain": [
       "<IPython.core.display.HTML object>"
      ]
     },
     "metadata": {},
     "output_type": "display_data"
    }
   ],
   "source": [
    "model = training_loop(\n",
    "    model = model,\n",
    "    training_data = train_data,\n",
    "    validation_data = val_data,\n",
    "    run_name = \"unet_run1\",\n",
    "    batch = 4,\n",
    "    learning_rate = 1e-3,\n",
    "    num_epochs = 15,\n",
    "    device = device\n",
    ")\n",
    "\n",
    "torch.torch.cuda.empty_cache()"
   ]
  },
  {
   "cell_type": "code",
   "execution_count": 31,
   "id": "1z672EYd1U1p",
   "metadata": {
    "executionInfo": {
     "elapsed": 22707,
     "status": "ok",
     "timestamp": 1756988136056,
     "user": {
      "displayName": "Tumelo Mkwambe",
      "userId": "08813125351880853308"
     },
     "user_tz": -120
    },
    "id": "1z672EYd1U1p"
   },
   "outputs": [],
   "source": [
    "model = model.to(\"cpu\")\n",
    "image = test_data[3][0]\n",
    "image = image.unsqueeze(0)\n",
    "out_image = model(image)"
   ]
  },
  {
   "cell_type": "code",
   "execution_count": 32,
   "id": "hWKdlroMN5kc",
   "metadata": {
    "executionInfo": {
     "elapsed": 157,
     "status": "ok",
     "timestamp": 1756988136217,
     "user": {
      "displayName": "Tumelo Mkwambe",
      "userId": "08813125351880853308"
     },
     "user_tz": -120
    },
    "id": "hWKdlroMN5kc"
   },
   "outputs": [],
   "source": [
    "out_image = torch.argmax(out_image, dim = 1)\n",
    "out_image = out_image.squeeze(0)"
   ]
  },
  {
   "cell_type": "code",
   "execution_count": 33,
   "id": "p8nWJmibPm3f",
   "metadata": {
    "colab": {
     "base_uri": "https://localhost:8080/",
     "height": 420
    },
    "executionInfo": {
     "elapsed": 506,
     "status": "ok",
     "timestamp": 1756988136732,
     "user": {
      "displayName": "Tumelo Mkwambe",
      "userId": "08813125351880853308"
     },
     "user_tz": -120
    },
    "id": "p8nWJmibPm3f",
    "outputId": "adc575f8-21cb-428d-dd89-b684c0001d5e"
   },
   "outputs": [
    {
     "data": {
      "image/png": "[encoded data removed]",
      "text/plain": [
       "<Figure size 640x480 with 2 Axes>"
      ]
     },
     "metadata": {},
     "output_type": "display_data"
    }
   ],
   "source": [
    "view(test_data[3][1])"
   ]
  },
  {
   "cell_type": "code",
   "execution_count": 34,
   "id": "OMXxggAqO8cR",
   "metadata": {
    "colab": {
     "base_uri": "https://localhost:8080/",
     "height": 420
    },
    "executionInfo": {
     "elapsed": 111,
     "status": "ok",
     "timestamp": 1756988136842,
     "user": {
      "displayName": "Tumelo Mkwambe",
      "userId": "08813125351880853308"
     },
     "user_tz": -120
    },
    "id": "OMXxggAqO8cR",
    "outputId": "7e67f02f-924f-481d-9e2f-213e8ee4418a"
   },
   "outputs": [
    {
     "data": {
      "image/png": "[encoded data removed]",
      "text/plain": [
       "<Figure size 640x480 with 2 Axes>"
      ]
     },
     "metadata": {},
     "output_type": "display_data"
    }
   ],
   "source": [
    "view(out_image)"
   ]
  },
  {
   "cell_type": "code",
   "execution_count": null,
   "id": "hpNxuSGeParb",
   "metadata": {
    "id": "hpNxuSGeParb"
   },
   "outputs": [],
   "source": []
  }
 ],
 "metadata": {
  "accelerator": "GPU",
  "colab": {
   "gpuType": "T4",
   "provenance": []
  },
  "kernelspec": {
   "display_name": "Python 3 (ipykernel)",
   "language": "python",
   "name": "python3"
  },
  "language_info": {
   "codemirror_mode": {
    "name": "ipython",
    "version": 3
   },
   "file_extension": ".py",
   "mimetype": "text/x-python",
   "name": "python",
   "nbconvert_exporter": "python",
   "pygments_lexer": "ipython3",
   "version": "3.13.5"
  }
 },
 "nbformat": 4,
 "nbformat_minor": 5
}
