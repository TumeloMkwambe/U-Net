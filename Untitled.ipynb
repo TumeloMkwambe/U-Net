{
 "cells": [
  {
   "cell_type": "code",
   "execution_count": 3,
   "id": "3bd384c4-3959-43e7-992b-38a6eb49fb5a",
   "metadata": {},
   "outputs": [],
   "source": [
    "import torch\n",
    "from torch import nn"
   ]
  },
  {
   "cell_type": "code",
   "execution_count": 22,
   "id": "e56f4e68-eec4-4142-a622-be84709942ba",
   "metadata": {},
   "outputs": [],
   "source": [
    "class Encoder(nn.Module):\n",
    "    def __init__(self, input_channels, output_channels):\n",
    "        super().__init__()\n",
    "        self.conv1 = nn.Conv2d(input_channels, output_channels, kernel_size = 2, padding = 1)\n",
    "        self.conv2 = nn.Conv2d(output_channels, output_channels, kernel_size = 2, padding = 1)\n",
    "        self.relu = nn.ReLU(inplace = True)\n",
    "        \n",
    "    def forward(self, feature_bank):\n",
    "        feature_bank = self.relu(self.conv1(feature_bank))\n",
    "        feature_bank = self.relu(self.conv2(feature_bank))\n",
    "        return feature_bank"
   ]
  },
  {
   "cell_type": "code",
   "execution_count": 24,
   "id": "d9c05188-4159-4fb4-8027-cc39b0d0ef21",
   "metadata": {},
   "outputs": [],
   "source": [
    "class Decoder(nn.Module):\n",
    "    def __init__(self, input_channels, output_channels):\n",
    "        super().__init__()\n",
    "        self.conv1 = nn.Conv2d(input_channels, output_channes, kernel = 2, padding = 1)\n",
    "        self.conv2 = nn.Conv2d(output_channels, output_channels, kernel_size = 2, padding = 1)\n",
    "        self.relu = nn.ReLU(inplace = True)\n",
    "\n",
    "    def forward(self, decoder_feature_bank, encoder_feature_bank):\n",
    "        \n",
    "        if decoder_feature_bank.shape[2] != encoder_feature_bank.shape[2] or decoder_feature_bank.shape[3] != encoder_feature_bank.shape[3]:\n",
    "            raise ValueError(\"incompatible shapes for skip connection\")\n",
    "        else:\n",
    "            feature_bank = torch.cat([decoder_feature_bank, encoder_feature_bank], dim = 1)\n",
    "            feature_bank = self.relu(self.conv1(feature_bank))\n",
    "            feature_map = self.relu(self.conv2(feature_bank))\n",
    "            return feature_bank"
   ]
  },
  {
   "cell_type": "code",
   "execution_count": 25,
   "id": "9738bba4-5283-4c3f-a288-e13446f4ae3d",
   "metadata": {},
   "outputs": [],
   "source": [
    "class UpConv(nn.Module):\n",
    "    def __init__(self, input_channels, output_channels):\n",
    "        super().__init__()\n",
    "        \n",
    "\n",
    "    def forward(self, feature_bank):\n",
    "        return self.up_conv(feature_bank)"
   ]
  },
  {
   "cell_type": "code",
   "execution_count": null,
   "id": "bf87cb4b-bd6f-431f-9268-70edb933ca59",
   "metadata": {},
   "outputs": [],
   "source": [
    "class U_Net(nn.Module):\n",
    "    def __init__(self):\n",
    "        channels = [3, 64, 128, 256, 512, 1024]\n",
    "        self.contract = nn.ModuleList([\n",
    "            ContractBlock(channels[i], channels[i + 1]) for i in range(len(channels) - 1)\n",
    "        ])\n",
    "        channels.reverse()\n",
    "        self.expand = nn.ModuleList([\n",
    "            ExpansiveBlock(channels[i], channels[i + 1]) for i in range(len(channels) - 1)\n",
    "        ])\n",
    "\n",
    "        self.max_pool = nn.MaxPool2d(kernel_size = 2, stride = 2)\n",
    "        self.convUps = nn.ModuleList([\n",
    "            self.up_conv = nn.ConvTranspose2d(i, o, kernel_size = 2, stride = 2) for i in range(len(channels) - 1)\n",
    "        ])\n",
    "\n",
    "\n",
    "    def forward(self, img):\n",
    "        encoder_feature_banks = []\n",
    "        feature_bank = None\n",
    "        for idx, block in enumerate(self.encoder):\n",
    "            if idx == 0:\n",
    "                feature_bank = block(img)\n",
    "                encoder_feature_banks.append(feature_bank)\n",
    "            else:\n",
    "                feature_bank = block(feature_bank)\n",
    "                encoder_feature_banks.append(feature_bank)\n",
    "        for idx, block in enumerate(self.decoder):\n",
    "            t"
   ]
  },
  {
   "cell_type": "code",
   "execution_count": null,
   "id": "ac77791a-34f3-450c-9e9a-eaad349cc94e",
   "metadata": {},
   "outputs": [],
   "source": []
  }
 ],
 "metadata": {
  "kernelspec": {
   "display_name": "Python 3 (ipykernel)",
   "language": "python",
   "name": "python3"
  },
  "language_info": {
   "codemirror_mode": {
    "name": "ipython",
    "version": 3
   },
   "file_extension": ".py",
   "mimetype": "text/x-python",
   "name": "python",
   "nbconvert_exporter": "python",
   "pygments_lexer": "ipython3",
   "version": "3.12.7"
  }
 },
 "nbformat": 4,
 "nbformat_minor": 5
}
