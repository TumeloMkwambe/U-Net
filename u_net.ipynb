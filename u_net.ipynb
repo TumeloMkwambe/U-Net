{
 "cells": [
  {
   "cell_type": "code",
   "execution_count": 1,
   "id": "7b50fd05-3c0e-45de-b6d4-0c956e2d0a87",
   "metadata": {},
   "outputs": [],
   "source": [
    "import cv2\n",
    "import time\n",
    "import torch\n",
    "import numpy as np\n",
    "from torch import nn"
   ]
  },
  {
   "cell_type": "code",
   "execution_count": 13,
   "id": "018b69dc-6ea9-460c-bf69-539d9f229210",
   "metadata": {},
   "outputs": [],
   "source": [
    "class TwoConvolutions(nn.Module):\n",
    "    def __init__(self, in_channels, out_channels):\n",
    "        super().__init__()\n",
    "        \n",
    "        self.block = nn.Sequential(\n",
    "            nn.Conv2d(in_channels = in_channels, out_channels = out_channels, kernel_size = 3, stride = 1, padding = (1,1)),\n",
    "            nn.ReLU(),\n",
    "            nn.Conv2d(in_channels = out_channels, out_channels = out_channels, kernel_size = 3, stride = 1, padding = (1,1)),\n",
    "            nn.ReLU(),\n",
    "        )\n",
    "\n",
    "    def forward(self, input_):\n",
    "        \n",
    "        output = self.block(input_)\n",
    "        \n",
    "        return output"
   ]
  },
  {
   "cell_type": "code",
   "execution_count": 14,
   "id": "804b3980-dbb7-41af-9319-bd12fff1479b",
   "metadata": {},
   "outputs": [],
   "source": [
    "class EncoderBlock(nn.Module):\n",
    "    def __init__(self, in_channels, out_channels):\n",
    "        super().__init__()\n",
    "        \n",
    "        self.TwoConvolutions = TwoConvolutions(in_channels, out_channels)\n",
    "        self.max_pooling = nn.MaxPool2d(kernel_size = 2, stride = 2)\n",
    "\n",
    "    def forward(self, image):\n",
    "        \n",
    "        skip_features = self.TwoConvolutions(image)\n",
    "        features = self.max_pooling(skip_features)\n",
    "        \n",
    "        return features, skip_features"
   ]
  },
  {
   "cell_type": "code",
   "execution_count": 15,
   "id": "609d8ed7-abd0-43d5-b75e-9d778bbe0d48",
   "metadata": {},
   "outputs": [],
   "source": [
    "class DecoderBlock(nn.Module):\n",
    "    def __init__(self, in_channels, out_channels):\n",
    "        super().__init__()\n",
    "        \n",
    "        self.upConvolution = nn.ConvTranspose2d(in_channels, out_channels, kernel_size = 2, stride = 2)\n",
    "        self.TwoConvolutions = TwoConvolutions(out_channels * 2, out_channels)\n",
    "\n",
    "    def forward(self, input_, skip_input):\n",
    "        \n",
    "        features = self.upConvolution(input_)\n",
    "        features = torch.cat([features, skip_input], dim = 1)\n",
    "        features = self.TwoConvolutions(features)\n",
    "        \n",
    "        return features"
   ]
  },
  {
   "cell_type": "code",
   "execution_count": 17,
   "id": "01240c46-84d0-4c96-8b8d-be06c73685cf",
   "metadata": {},
   "outputs": [],
   "source": [
    "class U_Net(nn.Module):\n",
    "    def __init__(self, in_channels, out_channels, depth):\n",
    "        super().__init__()\n",
    "        \n",
    "        self.channels = [in_channels] + [64 * (2 ** i) for i in range(depth + 1)]\n",
    "\n",
    "        self.Encoder = nn.ModuleList([\n",
    "            EncoderBlock(self.channels[i], self.channels[i+1]) for i in range(depth)\n",
    "        ])\n",
    "\n",
    "        self.Bottleneck = TwoConvolutions(self.channels[depth], self.channels[depth + 1])\n",
    "\n",
    "        self.channels.reverse()\n",
    "        self.channels.pop()\n",
    "\n",
    "        self.Decoder = nn.ModuleList([\n",
    "            DecoderBlock(self.channels[i], self.channels[i+1]) for i in range(depth)\n",
    "        ])\n",
    "\n",
    "        self.FinalConvolution = nn.Conv2d(in_channels = self.channels[-1], out_channels = out_channels, kernel_size = 3, stride = 1, padding = (1,1))\n",
    "\n",
    "    def forward(self, image):\n",
    "        \n",
    "        encoder_features = []\n",
    "        features = image\n",
    "\n",
    "        for block in self.Encoder:\n",
    "            features, skip_features = block(features)\n",
    "            encoder_features.append(skip_features)\n",
    "\n",
    "        features = self.Bottleneck(features)\n",
    "        encoder_features.reverse()\n",
    "\n",
    "        for idx, block in enumerate(self.Decoder):\n",
    "            features = block(features, encoder_features[idx])\n",
    "\n",
    "        mask = self.FinalConvolution(features)\n",
    "\n",
    "        return mask"
   ]
  },
  {
   "cell_type": "code",
   "execution_count": null,
   "id": "5d5502fc-fd3a-4e8d-97ee-0d3774cd0df7",
   "metadata": {},
   "outputs": [],
   "source": []
  }
 ],
 "metadata": {
  "kernelspec": {
   "display_name": "Python 3 (ipykernel)",
   "language": "python",
   "name": "python3"
  },
  "language_info": {
   "codemirror_mode": {
    "name": "ipython",
    "version": 3
   },
   "file_extension": ".py",
   "mimetype": "text/x-python",
   "name": "python",
   "nbconvert_exporter": "python",
   "pygments_lexer": "ipython3",
   "version": "3.13.5"
  }
 },
 "nbformat": 4,
 "nbformat_minor": 5
}
